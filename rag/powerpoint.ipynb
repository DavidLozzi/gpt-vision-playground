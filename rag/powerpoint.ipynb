{
 "cells": [
  {
   "cell_type": "markdown",
   "metadata": {},
   "source": [
    "# Using GPT Vision in RAG\n",
    "\n",
    "We're going to explore using OpenAI's GPT Vision with 4o model to gather more insight from complex slides, charts, and images, to improve our chat experiences in our RAG solutions.\n",
    "\n",
    "See my blog for a cleaner version of this content [Using GPT vision in RAG](https://davidlozzi.com/2025/02/01/using-gpt-vision-in-rag/)."
   ]
  },
  {
   "cell_type": "markdown",
   "metadata": {},
   "source": [
    "### The PowerPoint PPTX file\n",
    "\n",
    "I'll be using a PowerPoint file I made of my comic book collection. I didn't want to use real content from work, and I had a little fun building this ;). The value of adding vision to your RAG pipeline will still be realized using this data, I promise.\n",
    "\n",
    "You can review the [PowerPoint file, in all its glory, here](./comics.pptx)."
   ]
  },
  {
   "cell_type": "markdown",
   "metadata": {},
   "source": [
    "## Getting text from the PPTX\n",
    "\n",
    "But first, you'll need to create a .env file (see .env.example), update it with your OpenAI API key and install some libraries."
   ]
  },
  {
   "cell_type": "markdown",
   "metadata": {},
   "source": [
    "_let's get through some of the boring stuff, installing libraries and stuff_"
   ]
  },
  {
   "cell_type": "code",
   "execution_count": null,
   "metadata": {},
   "outputs": [],
   "source": [
    "%pip install numpy pandas python-pptx openai python-dotenv\n",
    "\n",
    "from dotenv import load_dotenv\n",
    "load_dotenv()"
   ]
  },
  {
   "cell_type": "markdown",
   "metadata": {},
   "source": [
    "Easy enough. Now our function to pull text from slides:"
   ]
  },
  {
   "cell_type": "code",
   "execution_count": 2,
   "metadata": {},
   "outputs": [
    {
     "name": "stdout",
     "output_type": "stream",
     "text": [
      "Pulled text from 9 slides\n"
     ]
    }
   ],
   "source": [
    "import os\n",
    "import json\n",
    "from pptx import Presentation\n",
    "from pptx.enum.shapes import MSO_SHAPE_TYPE\n",
    "\n",
    "ppt_file = \"comics.pptx\"\n",
    "json_file = \"slides_output.json\"\n",
    "\n",
    "# Load the presentation\n",
    "prs = Presentation(ppt_file)\n",
    "all_slides_data = []\n",
    "\n",
    "for idx, slide in enumerate(prs.slides, start=1):\n",
    "    slide_data = {\n",
    "        \"slide_number\": idx,\n",
    "        \"text\": []\n",
    "    }\n",
    "\n",
    "    for shape in slide.shapes:\n",
    "        # Extract text from text frames\n",
    "        if shape.has_text_frame and shape.text.strip():\n",
    "            slide_data[\"text\"].append(shape.text.strip())\n",
    "\n",
    "        # Extract text from charts\n",
    "        if shape.shape_type == MSO_SHAPE_TYPE.CHART:\n",
    "            chart = shape.chart\n",
    "            if chart.has_title:\n",
    "                slide_data[\"text\"].append(f\"Chart Title: {chart.chart_title.text_frame.text}\")\n",
    "            for s in chart.series:\n",
    "                slide_data[\"text\"].append(f\"Series Name: {s.name}\")\n",
    "                if s.values:\n",
    "                    slide_data[\"text\"].append(f\"Values: {list(s.values)}\")\n",
    "\n",
    "    all_slides_data.append(slide_data)\n",
    "\n",
    "print(f\"Pulled text from {len(all_slides_data)} slides\")\n"
   ]
  },
  {
   "cell_type": "markdown",
   "metadata": {},
   "source": [
    "The above has pulled text from all of the slides. We'll explore that data below.\n",
    "\n",
    "I manually exported the deck to JPEG into the `./comics/` folder. Finding a library to do that programmatically was getting annoying. In production, we use ASPose, on Java. There are some Python libraries available, but decided not to implement as that's outside of the goal for this exercise. So for today, I've saved my deck as `.jpeg` sized 1024x578.\n",
    "\n",
    "Let's quickly review the deck and confirm the text I pulled off it. And note how \"useless\" (from a plain text point of view) some of the content is!"
   ]
  },
  {
   "cell_type": "code",
   "execution_count": 21,
   "metadata": {},
   "outputs": [
    {
     "data": {
      "text/markdown": [
       "<img src='./comics/Slide1.jpeg' style='width: 50%' />\n",
       "                     \n",
       "**Slide 1**\n",
       "\n",
       "My Comic Book Collection\n",
       "As of Dec 14, 2024"
      ],
      "text/plain": [
       "<IPython.core.display.Markdown object>"
      ]
     },
     "metadata": {},
     "output_type": "display_data"
    },
    {
     "data": {
      "text/markdown": [
       "<img src='./comics/Slide2.jpeg' style='width: 50%' />\n",
       "                     \n",
       "**Slide 2**\n",
       "\n",
       "Comic Books\n",
       "Comic books started in 1938 with the introduction of Action Comics #1 marking the debut of Superman. Over the years, comic books have sold for over $3.5M, making comic books investment-grade collectibles."
      ],
      "text/plain": [
       "<IPython.core.display.Markdown object>"
      ]
     },
     "metadata": {},
     "output_type": "display_data"
    },
    {
     "data": {
      "text/markdown": [
       "<img src='./comics/Slide3.jpeg' style='width: 50%' />\n",
       "                     \n",
       "**Slide 3**\n",
       "\n",
       "My Comic Books\n",
       "I started collecting July 4th, 2021, and fell in love with the stories and artwork. I quickly learned certain artists and rarity of the covers could increase a book’s value ten-fold in the first day."
      ],
      "text/plain": [
       "<IPython.core.display.Markdown object>"
      ]
     },
     "metadata": {},
     "output_type": "display_data"
    },
    {
     "data": {
      "text/markdown": [
       "<img src='./comics/Slide4.jpeg' style='width: 50%' />\n",
       "                     \n",
       "**Slide 4**\n",
       "\n",
       "My Comic Books\n",
       "As a Star Wars fan, the stories from the comics fill much of the gaps between the movies and TV shows. We get to see our beloved heroes, and villains, in their natural elements like we never see on the screen."
      ],
      "text/plain": [
       "<IPython.core.display.Markdown object>"
      ]
     },
     "metadata": {},
     "output_type": "display_data"
    },
    {
     "data": {
      "text/markdown": [
       "<img src='./comics/Slide5.jpeg' style='width: 50%' />\n",
       "                     \n",
       "**Slide 5**\n",
       "\n",
       "My Collection\n",
       "The following are some stats from my collection"
      ],
      "text/plain": [
       "<IPython.core.display.Markdown object>"
      ]
     },
     "metadata": {},
     "output_type": "display_data"
    },
    {
     "data": {
      "text/markdown": [
       "<img src='./comics/Slide6.jpeg' style='width: 50%' />\n",
       "                     \n",
       "**Slide 6**\n",
       "\n",
       "Chart Title: \n",
       "Series Name: Total\n",
       "Values: [835.0, 203.0, 116.0, 113.0, 80.0, 50.0, 21.0, 18.0, 17.0, 17.0, 13.0, 10.0, 8.0, 7.0, 7.0, 6.0, 5.0, 4.0, 4.0, 2.0, 2.0, 2.0, 2.0, 1.0, 1.0, 1.0, 1.0, 1.0, 1.0, 1.0, 1.0, 1.0, 1.0, 1.0, 1.0, 1.0, 1.0, 1.0]\n",
       "by publisher\n",
       "Contains more original stories (better in my opinion)\n",
       "This is so high due to Star Wars"
      ],
      "text/plain": [
       "<IPython.core.display.Markdown object>"
      ]
     },
     "metadata": {},
     "output_type": "display_data"
    },
    {
     "data": {
      "text/markdown": [
       "<img src='./comics/Slide7.jpeg' style='width: 50%' />\n",
       "                     \n",
       "**Slide 7**\n",
       "\n",
       "Series Name: Count of Series Name\n",
       "Values: [1.0, 10.0, 11.0, 9.0, 25.0, 15.0, 8.0, 2.0, 3.0, 2.0, 1.0, 6.0, 13.0, 14.0, 8.0, 14.0, 8.0, 2.0, 7.0, 6.0, 4.0, 3.0, 5.0, 1.0, 6.0, 2.0, 2.0, 2.0, 5.0, 12.0, 1.0, 10.0, 8.0, 27.0, 27.0, 11.0, 35.0, 21.0, 71.0, 369.0, 497.0, 298.0, 198.0]\n",
       "release years\n",
       "Started Collecting\n",
       "That was an expensive year"
      ],
      "text/plain": [
       "<IPython.core.display.Markdown object>"
      ]
     },
     "metadata": {},
     "output_type": "display_data"
    },
    {
     "data": {
      "text/markdown": [
       "<img src='./comics/Slide8.jpeg' style='width: 50%' />\n",
       "                     \n",
       "**Slide 8**\n",
       "\n",
       "Chart Title: Top Publishers\n",
       "Series Name: Read\n",
       "Values: [550.0, 100.0, 57.0, 43.0, 41.0]\n",
       "Series Name: Unread\n",
       "Values: [247.0, 87.0, 51.0, 64.0, 34.0]\n",
       "reading status\n",
       "Chart Title: All Comic Books\n",
       "Series Name: Total\n",
       "Values: [964.0, 816.0]"
      ],
      "text/plain": [
       "<IPython.core.display.Markdown object>"
      ]
     },
     "metadata": {},
     "output_type": "display_data"
    },
    {
     "data": {
      "text/markdown": [
       "<img src='./comics/Slide9.jpeg' style='width: 50%' />\n",
       "                     \n",
       "**Slide 9**\n",
       "\n",
       "Series Name: Star Wars Books\n",
       "Values: [554.0, 34.0, 67.0, 2.0]\n",
       "Series Name: Other Books\n",
       "Values: [243.0, 41.0, 40.0, 0.0]\n",
       "Series Name: \n",
       "Values: [657.0, 324.0]\n",
       "star wars comics\n",
       "Star Wars\n",
       "67%\n",
       "All other books\n",
       "33%\n",
       "2"
      ],
      "text/plain": [
       "<IPython.core.display.Markdown object>"
      ]
     },
     "metadata": {},
     "output_type": "display_data"
    }
   ],
   "source": [
    "from IPython.display import display, Markdown\n",
    "\n",
    "for slide in all_slides_data:\n",
    "    all_text = \"\\n\".join(slide[\"text\"])\n",
    "    display(Markdown(f\"\"\"<img src='./comics/Slide{slide['slide_number']}.jpeg' style='width: 50%' />\n",
    "                     \n",
    "**Slide {slide['slide_number']}**\n",
    "\n",
    "{all_text}\"\"\"))"
   ]
  },
  {
   "cell_type": "markdown",
   "metadata": {},
   "source": [
    "Thoughts? Reading the text has little value to what the slide actually says, right? Some slides it's mostly numbers! Useless. Enter GPT 4o Vision!! Let's see what we can get GPT to help us out with."
   ]
  },
  {
   "cell_type": "markdown",
   "metadata": {},
   "source": [
    "## Getting value from GPT 4o Vision"
   ]
  },
  {
   "cell_type": "markdown",
   "metadata": {},
   "source": [
    "Let's use [OpenAI's documentation on using vision](https://platform.openai.com/docs/guides/vision)."
   ]
  },
  {
   "cell_type": "code",
   "execution_count": 11,
   "metadata": {},
   "outputs": [],
   "source": [
    "from openai import OpenAI\n",
    "import base64\n",
    "client = OpenAI()\n",
    "\n",
    "total_completion = 0\n",
    "total_prompt = 0\n",
    "sys_prompt = \"\"\"Review the image and describe it in detail as describing it to someone who has impaired vision.\n",
    "Pay particular attention to the relationships between the objects in the image, especially charts and graphs.\"\"\"\n",
    "\n",
    "def get_image_desc(image):\n",
    "    global total_completion, total_prompt\n",
    "    with open(image, \"rb\") as image_file:\n",
    "        image_base64 = base64.b64encode(image_file.read()).decode('utf-8')\n",
    "    \n",
    "    response = client.chat.completions.create(\n",
    "        model=\"gpt-4o\", # change to 4o from 40-mini, as mini has limitations in understanding relationships\n",
    "        messages=[\n",
    "            {\n",
    "                \"role\": \"user\",\n",
    "                \"content\": [\n",
    "                    {\"type\": \"text\", \"text\": sys_prompt},\n",
    "                    {\n",
    "                        \"type\": \"image_url\",\n",
    "                        \"image_url\": {\n",
    "                            \"url\": f\"data:image/jpeg;base64,{image_base64}\",\n",
    "                        },\n",
    "                    },\n",
    "                ],\n",
    "            }\n",
    "        ],\n",
    "        max_tokens=4000, # using a lot more to give the machine room to give me a good answer \n",
    "    )\n",
    "    total_completion += response.usage.completion_tokens\n",
    "    total_prompt += response.usage.prompt_tokens\n",
    "    return response.choices[0].message.content\n"
   ]
  },
  {
   "cell_type": "markdown",
   "metadata": {},
   "source": [
    "What did I do:\n",
    "\n",
    "- Created a single function so I can call it for each slide.\n",
    "- I have a basic \"system prompt\" (not really a system prompt, rather it's user text, but I'm stubborn). Note the wording, I have found asking it to describe it to someone with impaired vision really brings out a rich description.\n",
    "- I collect all usage to share total costs of my tests below.\n",
    "\n",
    "Now let's run all the images!"
   ]
  },
  {
   "cell_type": "code",
   "execution_count": 12,
   "metadata": {},
   "outputs": [
    {
     "name": "stdout",
     "output_type": "stream",
     "text": [
      "Visioned slide 1\n",
      "Visioned slide 2\n",
      "Visioned slide 3\n",
      "Visioned slide 4\n",
      "Visioned slide 5\n",
      "Visioned slide 6\n",
      "Visioned slide 7\n",
      "Visioned slide 8\n",
      "Visioned slide 9\n",
      "DONE!\n",
      "Total completion tokens used: 2692\n",
      "Total prompt tokens used: 8127\n"
     ]
    }
   ],
   "source": [
    "for slide in all_slides_data:\n",
    "    image = f\"./comics/Slide{slide['slide_number']}.jpeg\"\n",
    "    slide[\"description\"] = get_image_desc(image)\n",
    "    print(f\"Visioned slide {slide['slide_number']}\")\n",
    "\n",
    "print(f\"DONE!\\nTotal completion tokens used: {total_completion}\\nTotal prompt tokens used: {total_prompt}\")"
   ]
  },
  {
   "cell_type": "markdown",
   "metadata": {},
   "source": [
    "_not bad token usage, we'll talk costs a little later_\n",
    "\n",
    "Drum roll please, let's see what the plain text extraction looks like against the vision description!\n",
    "\n",
    "<img src=\"../images/you%20need%20to%20see%20this.jpg\" alt=\"Comic panel: You need to see this\" style=\"width: 50%\" />"
   ]
  },
  {
   "cell_type": "code",
   "execution_count": 13,
   "metadata": {},
   "outputs": [
    {
     "data": {
      "text/markdown": [
       "<table style='width:100%' border='0'>\n",
       "        <tr><td colspan=\"2\" style=\"text-align:center\"><img src=\"./comics/Slide1.jpeg\" style=\"width:50%\" /><br/>Slide 1</tr>\n",
       "        <tr>\n",
       "            <td style='width:48%; vertical-align:top'>\n",
       "                <strong>Plain Text</strong><br/><br/>\n",
       "                My Comic Book Collection\n",
       "As of Dec 14, 2024\n",
       "            </td>\n",
       "            <td style='width:48%; vertical-align:top'>\n",
       "                <strong>Vision Description:</strong><br/><br/>\n",
       "                The image is a collage of comic book covers with a central text box overlay. Each comic book cover is distinct, displaying various characters and art styles. Here's a detailed description:\n",
       "\n",
       "1. **Central Text Box**: A large, dark gray rectangle is centered in the image, with the text \"My Comic Book Collection\" in bold white lettering. Below this, it says \"As of Dec 14, 2024\" in smaller white text.\n",
       "\n",
       "2. **Comic Covers**:\n",
       "   - **Top Row**:\n",
       "     - *Left*: A cover of \"The Amazing Spider-Man\" featuring Spider-Man in his iconic red and blue suit, swinging on a web.\n",
       "     - *Middle Left*: \"Batman 89\" shows Batman standing in front of a dark, urban backdrop with a full moon.\n",
       "     - *Middle Right*: \"Nebula\" depicts a futuristic character with mechanical elements and vibrant colors.\n",
       "     - *Right*: \"Eve\" shows a girl with eyes closed, inside a circular window, hinting at a science fiction theme.\n",
       "\n",
       "   - **Bottom Row**:\n",
       "     - *Left*: \"Scarlet Witch\" has a striking image of a woman in red, with intense green eyes.\n",
       "     - *Middle Left*: A comic with a woman in a pirate-like outfit, holding a sword.\n",
       "     - *Middle Right*: A vibrant and colorful comic cover with a group of characters in action poses.\n",
       "     - *Right*: A retro-style comic featuring \"The Hulk\" with a dynamic and bold illustration.\n",
       "\n",
       "3. **Arrangement**: The comic covers are arranged in two rows of four, framing the central text box. Each cover has vivid, engaging artwork, highlighting the variety and diversity in the comic collection.\n",
       "\n",
       "Overall, the image is a visually engaging showcase of the individual's diverse comic book collection as of December 14, 2024.\n",
       "            </td>\n",
       "        </tr>\n",
       "    </table>\n",
       "    "
      ],
      "text/plain": [
       "<IPython.core.display.Markdown object>"
      ]
     },
     "metadata": {},
     "output_type": "display_data"
    },
    {
     "data": {
      "text/markdown": [
       "<table style='width:100%' border='0'>\n",
       "        <tr><td colspan=\"2\" style=\"text-align:center\"><img src=\"./comics/Slide2.jpeg\" style=\"width:50%\" /><br/>Slide 2</tr>\n",
       "        <tr>\n",
       "            <td style='width:48%; vertical-align:top'>\n",
       "                <strong>Plain Text</strong><br/><br/>\n",
       "                Comic Books\n",
       "Comic books started in 1938 with the introduction of Action Comics #1 marking the debut of Superman. Over the years, comic books have sold for over $3.5M, making comic books investment-grade collectibles.\n",
       "            </td>\n",
       "            <td style='width:48%; vertical-align:top'>\n",
       "                <strong>Vision Description:</strong><br/><br/>\n",
       "                The image is a slide titled \"Comic Books.\" The title appears at the top in large, bold black text. Below the title is a paragraph in smaller black text. It reads: \"Comic books started in 1938 with the introduction of Action Comics #1 marking the debut of Superman. Over the years, comic books have sold for over $3.5M, making comic books investment-grade collectibles.\"\n",
       "\n",
       "To the right of the text is an image of the cover of \"Action Comics #1\" from June 1938. It shows a colorful illustration of Superman lifting a green car. There are people in the foreground reacting with surprise and fear. The cover has a bold red and yellow background.\n",
       "\n",
       "Below this, there are additional single comic book covers displayed in a row from left to right:\n",
       "\n",
       "1. **The Warlord**: The cover features bold, vivid colors with an image of a muscular warrior wielding a sword against a dinosaur. The title is set against a dark background in an elaborate stylized font.\n",
       "\n",
       "2. **The Thing**: This cover features a group of heroes against a space-themed backdrop, with \"THE THING\" in a large red font at the top. The characters are dressed in futuristic outfits.\n",
       "\n",
       "3. **Star Wars**: The cover prominently displays the characters from the Star Wars universe, including Darth Vader, in front of starry space. The title \"STAR WARS\" is large, yellow, and bold.\n",
       "\n",
       "The overall layout presents a historical context alongside visual examples of comic book covers, highlighting their cultural and collectible importance.\n",
       "            </td>\n",
       "        </tr>\n",
       "    </table>\n",
       "    "
      ],
      "text/plain": [
       "<IPython.core.display.Markdown object>"
      ]
     },
     "metadata": {},
     "output_type": "display_data"
    },
    {
     "data": {
      "text/markdown": [
       "<table style='width:100%' border='0'>\n",
       "        <tr><td colspan=\"2\" style=\"text-align:center\"><img src=\"./comics/Slide3.jpeg\" style=\"width:50%\" /><br/>Slide 3</tr>\n",
       "        <tr>\n",
       "            <td style='width:48%; vertical-align:top'>\n",
       "                <strong>Plain Text</strong><br/><br/>\n",
       "                My Comic Books\n",
       "I started collecting July 4th, 2021, and fell in love with the stories and artwork. I quickly learned certain artists and rarity of the covers could increase a book’s value ten-fold in the first day.\n",
       "            </td>\n",
       "            <td style='width:48%; vertical-align:top'>\n",
       "                <strong>Vision Description:</strong><br/><br/>\n",
       "                The image is a collage with a text portion on the left side and four comic book covers. Here's a detailed description:\n",
       "\n",
       "**Text:**\n",
       "- At the top left, there's a title that reads \"My Comic Books.\"\n",
       "- Below the title, a paragraph states: \"I started collecting July 4th, 2021, and fell in love with the stories and artwork. I quickly learned certain artists and rarity of the covers could increase a book’s value ten-fold in the first day.\"\n",
       "\n",
       "**Comic Book Covers:**\n",
       "1. **Top Right Cover:**\n",
       "   - Titled \"We Don't Kill Spiders.\"\n",
       "   - Features an illustrated person holding a glowing red object with several dark shadows around. The background is blue with bright pink text.\n",
       "\n",
       "2. **Bottom Row - Left Cover:**\n",
       "   - Titled \"BRZRKR.\"\n",
       "   - Shows a monochrome figure in dark armor, holding a weapon, standing against a backdrop of large block letters in blue.\n",
       "\n",
       "3. **Bottom Row - Middle Cover:**\n",
       "   - Titled \"Stray Dogs: Dog Days.\"\n",
       "   - Has an image of a bloody envelope and a paw print, implying a mysterious or suspenseful theme, with mostly dark red and brown tones.\n",
       "\n",
       "4. **Bottom Row - Right Cover:**\n",
       "   - Titled \"Darth Vader.\"\n",
       "   - Depicts the iconic Star Wars character, Darth Vader, in full armor holding a lightsaber against a space-themed background with warm brown and gold colors.\n",
       "  \n",
       "The comic book covers are arranged in two rows: one cover on the top right by itself, and three covers along the bottom. The text is adjacent to the bottom row. Each cover has its unique style and theme.\n",
       "            </td>\n",
       "        </tr>\n",
       "    </table>\n",
       "    "
      ],
      "text/plain": [
       "<IPython.core.display.Markdown object>"
      ]
     },
     "metadata": {},
     "output_type": "display_data"
    },
    {
     "data": {
      "text/markdown": [
       "<table style='width:100%' border='0'>\n",
       "        <tr><td colspan=\"2\" style=\"text-align:center\"><img src=\"./comics/Slide4.jpeg\" style=\"width:50%\" /><br/>Slide 4</tr>\n",
       "        <tr>\n",
       "            <td style='width:48%; vertical-align:top'>\n",
       "                <strong>Plain Text</strong><br/><br/>\n",
       "                My Comic Books\n",
       "As a Star Wars fan, the stories from the comics fill much of the gaps between the movies and TV shows. We get to see our beloved heroes, and villains, in their natural elements like we never see on the screen.\n",
       "            </td>\n",
       "            <td style='width:48%; vertical-align:top'>\n",
       "                <strong>Vision Description:</strong><br/><br/>\n",
       "                The image is a slide titled \"My Comic Books,\" featuring a collection of Star Wars-themed comic book covers. \n",
       "\n",
       "At the top, there's a heading in bold: \"My Comic Books.\" Below this, there's a paragraph of text: \"As a Star Wars fan, the stories from the comics fill much of the gaps between the movies and TV shows. We get to see our beloved heroes, and villains, in their natural elements like we never see on the screen.\"\n",
       "\n",
       "Beneath the text, four comic book covers are displayed. From left to right:\n",
       "\n",
       "1. **First Cover (Leftmost):** Features a character in a white outfit holding a red lightsaber. The background is dark, with the words \"Darth Vader\" prominently displayed at the bottom.\n",
       "\n",
       "2. **Second Cover:** Shows Darth Vader holding a red lightsaber, standing against a smoky background. \"Star Wars Darth Vader\" is written at the top in bold.\n",
       "\n",
       "3. **Third Cover:** This is a classic-style comic cover with multiple characters including Darth Vader in the center. The title \"Star Wars\" is written in bright yellow at the top.\n",
       "\n",
       "4. **Fourth Cover (Rightmost):** Features the character Chewbacca, a large, furry being with a serious expression. It is titled \"Han Solo & Chewbacca.\" This cover is positioned separately to the right of the other three covers.\n",
       "\n",
       "The covers are aligned neatly, with the first three creating a row, and the fourth slightly offset to the right.\n",
       "            </td>\n",
       "        </tr>\n",
       "    </table>\n",
       "    "
      ],
      "text/plain": [
       "<IPython.core.display.Markdown object>"
      ]
     },
     "metadata": {},
     "output_type": "display_data"
    },
    {
     "data": {
      "text/markdown": [
       "<table style='width:100%' border='0'>\n",
       "        <tr><td colspan=\"2\" style=\"text-align:center\"><img src=\"./comics/Slide5.jpeg\" style=\"width:50%\" /><br/>Slide 5</tr>\n",
       "        <tr>\n",
       "            <td style='width:48%; vertical-align:top'>\n",
       "                <strong>Plain Text</strong><br/><br/>\n",
       "                My Collection\n",
       "The following are some stats from my collection\n",
       "            </td>\n",
       "            <td style='width:48%; vertical-align:top'>\n",
       "                <strong>Vision Description:</strong><br/><br/>\n",
       "                The image has a simple, minimalistic design. It consists of a plain white background with text aligned to the left side. The main heading, \"My Collection,\" is placed prominently in bold, black font. Below this heading, there is a subheading in smaller, gray font that reads, \"The following are some stats from my collection.\" There are no charts, graphs, or additional objects present in the image—just these two lines of text centered towards the top left portion.\n",
       "            </td>\n",
       "        </tr>\n",
       "    </table>\n",
       "    "
      ],
      "text/plain": [
       "<IPython.core.display.Markdown object>"
      ]
     },
     "metadata": {},
     "output_type": "display_data"
    },
    {
     "data": {
      "text/markdown": [
       "<table style='width:100%' border='0'>\n",
       "        <tr><td colspan=\"2\" style=\"text-align:center\"><img src=\"./comics/Slide6.jpeg\" style=\"width:50%\" /><br/>Slide 6</tr>\n",
       "        <tr>\n",
       "            <td style='width:48%; vertical-align:top'>\n",
       "                <strong>Plain Text</strong><br/><br/>\n",
       "                Chart Title: \n",
       "Series Name: Total\n",
       "Values: [835.0, 203.0, 116.0, 113.0, 80.0, 50.0, 21.0, 18.0, 17.0, 17.0, 13.0, 10.0, 8.0, 7.0, 7.0, 6.0, 5.0, 4.0, 4.0, 2.0, 2.0, 2.0, 2.0, 1.0, 1.0, 1.0, 1.0, 1.0, 1.0, 1.0, 1.0, 1.0, 1.0, 1.0, 1.0, 1.0, 1.0, 1.0]\n",
       "by publisher\n",
       "Contains more original stories (better in my opinion)\n",
       "This is so high due to Star Wars\n",
       "            </td>\n",
       "            <td style='width:48%; vertical-align:top'>\n",
       "                <strong>Vision Description:</strong><br/><br/>\n",
       "                The image is a bar chart with the title \"by publisher\" at the top left. The chart represents the total number of items attributed to various publishers along the x-axis, while the y-axis shows a numerical scale from 0 to 900.\n",
       "\n",
       "1. **X-Axis**: Represents different publishers. The list includes Marvel Comics at the far left, followed by DC Comics, Dark Horse Comics, and several others. Farther right, smaller publishers are also listed.\n",
       "\n",
       "2. **Y-Axis**: Ranges from 0 to 900, indicating the total count of items published.\n",
       "\n",
       "3. **Bars**: Each publisher has a vertical bar corresponding to the number of items. Notably:\n",
       "   - **Marvel Comics**: Has the tallest bar, reaching above 800, with a note stating, \"This is so high due to Star Wars.\"\n",
       "   - **DC Comics**: The second-highest bar, slightly above 200.\n",
       "   - **Dark Horse Comics**: Slightly above 100.\n",
       "   - The other publishers have significantly shorter bars, many below 100.\n",
       "\n",
       "4. **Annotations**:\n",
       "   - Next to the Marvel Comics bar, there is a text pointing at the height of the bar, explaining its height due to Star Wars.\n",
       "   - Above the middle publishers’ shorter bars, there is a note stating, \"Contains more original stories (better in my opinion).\"\n",
       "\n",
       "5. **Overall Trend**: There is a steep drop-off in height after Marvel Comics and DC Comics, with minor fluctuations among the remaining publishers.\n",
       "\n",
       "The visual presentation emphasizes the dominance of Marvel Comics in terms of volume, with DC Comics being a distant second, highlighting the contribution of Star Wars to Marvel’s count.\n",
       "            </td>\n",
       "        </tr>\n",
       "    </table>\n",
       "    "
      ],
      "text/plain": [
       "<IPython.core.display.Markdown object>"
      ]
     },
     "metadata": {},
     "output_type": "display_data"
    },
    {
     "data": {
      "text/markdown": [
       "<table style='width:100%' border='0'>\n",
       "        <tr><td colspan=\"2\" style=\"text-align:center\"><img src=\"./comics/Slide7.jpeg\" style=\"width:50%\" /><br/>Slide 7</tr>\n",
       "        <tr>\n",
       "            <td style='width:48%; vertical-align:top'>\n",
       "                <strong>Plain Text</strong><br/><br/>\n",
       "                Series Name: Count of Series Name\n",
       "Values: [1.0, 10.0, 11.0, 9.0, 25.0, 15.0, 8.0, 2.0, 3.0, 2.0, 1.0, 6.0, 13.0, 14.0, 8.0, 14.0, 8.0, 2.0, 7.0, 6.0, 4.0, 3.0, 5.0, 1.0, 6.0, 2.0, 2.0, 2.0, 5.0, 12.0, 1.0, 10.0, 8.0, 27.0, 27.0, 11.0, 35.0, 21.0, 71.0, 369.0, 497.0, 298.0, 198.0]\n",
       "release years\n",
       "Started Collecting\n",
       "That was an expensive year\n",
       "            </td>\n",
       "            <td style='width:48%; vertical-align:top'>\n",
       "                <strong>Vision Description:</strong><br/><br/>\n",
       "                The image is a line graph titled \"release years.\" The x-axis represents years ranging from 1969 to 2024, marked in increments of a few years, while the y-axis represents an unspecified numerical value ranging from 0 to 600.\n",
       "\n",
       "The data line starts low in 1969, with values remaining under 100 through to about 2014. There are minor fluctuations throughout these years. From around 2014, the line shows a steep upward trend, peaking sharply at around the year 2020, where it hits just below 500. After this peak, the line quickly descends, showing a sharp decline.\n",
       "\n",
       "Two labels are present on the graph. One is at the peak, indicating \"That was an expensive year,\" suggesting that 2020 was notable. Another is near the start of the upward trend, marked \"Started Collecting,\" which points around the year 2014.\n",
       "\n",
       "These labels provide context for the significant increase in numbers during this period, indicating critical points of interest in the timeline of data collection or events.\n",
       "            </td>\n",
       "        </tr>\n",
       "    </table>\n",
       "    "
      ],
      "text/plain": [
       "<IPython.core.display.Markdown object>"
      ]
     },
     "metadata": {},
     "output_type": "display_data"
    },
    {
     "data": {
      "text/markdown": [
       "<table style='width:100%' border='0'>\n",
       "        <tr><td colspan=\"2\" style=\"text-align:center\"><img src=\"./comics/Slide8.jpeg\" style=\"width:50%\" /><br/>Slide 8</tr>\n",
       "        <tr>\n",
       "            <td style='width:48%; vertical-align:top'>\n",
       "                <strong>Plain Text</strong><br/><br/>\n",
       "                Chart Title: Top Publishers\n",
       "Series Name: Read\n",
       "Values: [550.0, 100.0, 57.0, 43.0, 41.0]\n",
       "Series Name: Unread\n",
       "Values: [247.0, 87.0, 51.0, 64.0, 34.0]\n",
       "reading status\n",
       "Chart Title: All Comic Books\n",
       "Series Name: Total\n",
       "Values: [964.0, 816.0]\n",
       "            </td>\n",
       "            <td style='width:48%; vertical-align:top'>\n",
       "                <strong>Vision Description:</strong><br/><br/>\n",
       "                The image consists of two main parts: a pie chart on the left and a bar chart on the right. The overall topic is \"reading status\" of comic books.\n",
       "\n",
       "**Pie Chart (Left Side):**\n",
       "\n",
       "- Title: \"All Comic Books.\"\n",
       "- The pie chart is divided into two sections.\n",
       "- The larger section is labeled \"Read\" and is represented in dark blue, making up 54% of the chart.\n",
       "- The smaller section, labeled \"Unread,\" is in orange and accounts for 46% of the chart.\n",
       "- The chart visually shows that more comic books have been read than are unread.\n",
       "\n",
       "**Bar Chart (Right Side):**\n",
       "\n",
       "- Title: \"Top Publishers.\"\n",
       "- There are five publishers along the horizontal axis, each with its own bar rising upward:\n",
       "  1. Marvel Comics\n",
       "  2. DC Comics\n",
       "  3. BOOM! Studios\n",
       "  4. Dark Horse Comics\n",
       "  5. IDW Publishing\n",
       "- The height of the bars corresponds to the number of comic books, with specific amounts divided into read and unread.\n",
       "- The bars have two sections, similar in color to the pie chart: dark blue for read and orange for unread.\n",
       "- Marvel Comics' bar is the tallest, showing the highest number of comics, with a significant portion unread.\n",
       "- The other publishers have smaller bars, with varying ratios of read to unread comics.\n",
       "\n",
       "This combination of charts provides an overview of comic book reading status, both generally and by specific publishers.\n",
       "            </td>\n",
       "        </tr>\n",
       "    </table>\n",
       "    "
      ],
      "text/plain": [
       "<IPython.core.display.Markdown object>"
      ]
     },
     "metadata": {},
     "output_type": "display_data"
    },
    {
     "data": {
      "text/markdown": [
       "<table style='width:100%' border='0'>\n",
       "        <tr><td colspan=\"2\" style=\"text-align:center\"><img src=\"./comics/Slide9.jpeg\" style=\"width:50%\" /><br/>Slide 9</tr>\n",
       "        <tr>\n",
       "            <td style='width:48%; vertical-align:top'>\n",
       "                <strong>Plain Text</strong><br/><br/>\n",
       "                Series Name: Star Wars Books\n",
       "Values: [554.0, 34.0, 67.0, 2.0]\n",
       "Series Name: Other Books\n",
       "Values: [243.0, 41.0, 40.0, 0.0]\n",
       "Series Name: \n",
       "Values: [657.0, 324.0]\n",
       "star wars comics\n",
       "Star Wars\n",
       "67%\n",
       "All other books\n",
       "33%\n",
       "2\n",
       "            </td>\n",
       "            <td style='width:48%; vertical-align:top'>\n",
       "                <strong>Vision Description:</strong><br/><br/>\n",
       "                The image contains two main elements: a pie chart on the left and a bar graph on the right, with logos of comic publishers below the bar graph.\n",
       "\n",
       "### Pie Chart (Left Side)\n",
       "- **Title:** The chart is titled \"Star Wars Comics.\"\n",
       "- **Composition:** The pie chart is divided into two segments.\n",
       "  - **Larger Segment:** This takes up 67% of the circle, colored in blue, and labeled as \"Star Wars 67%.\"\n",
       "  - **Smaller Segment:** This occupies 33% of the circle, colored in orange, and labeled as \"All other books 33%.\"\n",
       "\n",
       "### Bar Graph (Right Side)\n",
       "- **Axes:** The vertical axis represents quantity, with numerical labels from 0 to 900 at intervals of 100. The horizontal axis lacks numerical labels but is associated with publisher logos.\n",
       "- **Bars:**\n",
       "  - The largest bar corresponds to the \"Marvel Comics\" logo. It is composed of a large blue lower section and a smaller orange upper section.\n",
       "  - The next two bars are significantly smaller and correspond to \"IDW Publishing\" and \"Dark Horse Comics\" logos. Each has a small orange segment on top of a blue base.\n",
       "  - There is also the \"Viz\" logo on the far right with a barely noticeable or absent bar.\n",
       "\n",
       "### Publisher Logos (Below the Graph)\n",
       "- The logos of four different comic publishers are displayed underneath the bar graph, aligned with the bars they represent:\n",
       "  1. **Marvel Comics:** Identified with the largest bar.\n",
       "  2. **IDW Publishing:** With a smaller bar.\n",
       "  3. **Dark Horse Comics:** Also with a smaller bar.\n",
       "  4. **Viz:** Associated with a negligible bar presence.\n",
       "\n",
       "The image presents a visual comparison and distribution of \"Star Wars\" comics versus other comic books, showcasing dominance by Star Wars comics in both charts and identifying the publishers involved in this context.\n",
       "            </td>\n",
       "        </tr>\n",
       "    </table>\n",
       "    "
      ],
      "text/plain": [
       "<IPython.core.display.Markdown object>"
      ]
     },
     "metadata": {},
     "output_type": "display_data"
    }
   ],
   "source": [
    "for slide in all_slides_data:\n",
    "    image = f\"./comics/Slide{slide['slide_number']}.jpeg\"\n",
    "    all_text = \"\\n\".join(slide[\"text\"])\n",
    "    display(Markdown(f\"\"\"<table style='width:100%' border='0'>\n",
    "        <tr><td colspan=\"2\" style=\"text-align:center\"><img src=\"{image}\" style=\"width:50%\" /><br/>Slide {slide['slide_number']}</tr>\n",
    "        <tr>\n",
    "            <td style='width:48%; vertical-align:top'>\n",
    "                <strong>Plain Text</strong><br/><br/>\n",
    "                {all_text}\n",
    "            </td>\n",
    "            <td style='width:48%; vertical-align:top'>\n",
    "                <strong>Vision Description:</strong><br/><br/>\n",
    "                {slide['description']}\n",
    "            </td>\n",
    "        </tr>\n",
    "    </table>\n",
    "    \"\"\"))\n",
    "    "
   ]
  },
  {
   "cell_type": "markdown",
   "metadata": {},
   "source": [
    "<img src=\"../images/yeee hoooo.PNG\" style=\"width: 50%\" alt=\"Comic panel of Han Solo yelling YEEE-HOOO!\"/>\n",
    "\n",
    "Those are some really helpful descriptions! With these rich descriptions, we can provide our LLMs with greater content to help answer your users' questions!"
   ]
  },
  {
   "cell_type": "markdown",
   "metadata": {},
   "source": [
    "## Does vision actually help?\n",
    "\n",
    "Obviously, the above will work better, but since I have some time on my hands, let's quickly find out 😉.\n",
    "\n",
    "Again, I'm using [OpenAI's basic scripts for generating text](https://platform.openai.com/docs/guides/text-generation), and polished up a little for my use case:"
   ]
  },
  {
   "cell_type": "code",
   "execution_count": 8,
   "metadata": {},
   "outputs": [],
   "source": [
    "from openai import OpenAI\n",
    "client = OpenAI()\n",
    "\n",
    "def call_gpt(text, context):\n",
    "    completion = client.chat.completions.create(\n",
    "        model=\"gpt-4o\",\n",
    "        messages=[\n",
    "            {\"role\": \"developer\", \"content\": \"Help the user by answering their question from the provided context.\"},\n",
    "            {\n",
    "                \"role\": \"user\",\n",
    "                \"content\": f\"Context:\\n{context}\\n\\nQuestion:\\n{text}\"\n",
    "            }\n",
    "        ]\n",
    "    )\n",
    "    return completion.choices[0].message.content\n"
   ]
  },
  {
   "cell_type": "markdown",
   "metadata": {},
   "source": [
    "The above is a basic function that'll call GPT. I concatenate the context, the text from relevant slides, with my question in one message. "
   ]
  },
  {
   "cell_type": "code",
   "execution_count": 9,
   "metadata": {},
   "outputs": [],
   "source": [
    "questions = [\n",
    "    {\n",
    "        \"question\": \"How many Marvel books are there?\",\n",
    "        \"keywords\": [\"Marvel\"]\n",
    "    },\n",
    "    {\n",
    "        \"question\": \"How many Marvel books are Star Wars related?\",\n",
    "        \"keywords\": [\"Marvel\", \"Star Wars\"]\n",
    "    },\n",
    "    {\n",
    "        \"question\": \"What year did the collection start?\",\n",
    "        \"keywords\": [\"start\", \"collect\", \"journey\"]\n",
    "    },\n",
    "    {\n",
    "        \"question\": \"What are the top brands?\",\n",
    "        \"keywords\": [\"brands\", \"publishers\"]\n",
    "    }\n",
    "]"
   ]
  },
  {
   "cell_type": "markdown",
   "metadata": {},
   "source": [
    "Above are my questions, and I added search keywords to find the content. Any decent RAG system should transform user questions into semantic phrases, and possibly vectors, to return some really robust results. I'm not creating a search tool for this exercise, so I'm cheating a little bit here to find related content.\n",
    "\n",
    "The following loops through my questions, and calls GPT twice: one with with the plain text extraction and one with the vision descriptions."
   ]
  },
  {
   "cell_type": "code",
   "execution_count": 14,
   "metadata": {},
   "outputs": [
    {
     "data": {
      "text/markdown": [
       "**How many Marvel books are there?**\n",
       "                     \n",
       "_Plain Answer_\n",
       "                     \n",
       "- The context provided does not contain specific information about the total number of Marvel books. The data mentions Star Wars books and other books, but does not explicitly reference Marvel books or provide their count. Therefore, based on the data available, it is not possible to determine the number of Marvel books.\n",
       "\n",
       "_Vision Answer_\n",
       "\n",
       "- In the context provided, the number of items attributed to Marvel Comics is represented in the bar chart titled \"by publisher,\" where the height of Marvel Comics’ bar reaches above 800. Therefore, there are more than 800 Marvel books.\n",
       "\n"
      ],
      "text/plain": [
       "<IPython.core.display.Markdown object>"
      ]
     },
     "metadata": {},
     "output_type": "display_data"
    },
    {
     "data": {
      "text/markdown": [
       "**How many Marvel books are Star Wars related?**\n",
       "                     \n",
       "_Plain Answer_\n",
       "                     \n",
       "- Based on the context provided, there isn't explicit information about how many Marvel books are specifically Star Wars related. The values given in the \"Star Wars Books\" category are [554.0, 34.0, 67.0, 2.0], but there is no direct reference associating these numbers with Marvel. To determine how many Marvel books are Star Wars related, you would need additional information linking the publishers to these values.\n",
       "\n",
       "_Vision Answer_\n",
       "\n",
       "- The pie chart indicates that 67% of the total \"Star Wars Comics\" belong to Marvel Comics. Depending on the precise context and total volume of material available, this percentage suggests a substantial portion of Marvel's catalog is Star Wars related, especially considering Marvel's large bar in the related bar graph. However, specific numeric values are not provided within the context, so we cannot determine the exact number without additional data.\n",
       "\n"
      ],
      "text/plain": [
       "<IPython.core.display.Markdown object>"
      ]
     },
     "metadata": {},
     "output_type": "display_data"
    },
    {
     "data": {
      "text/markdown": [
       "**What year did the collection start?**\n",
       "                     \n",
       "_Plain Answer_\n",
       "                     \n",
       "- The collection started on July 4th, 2021.\n",
       "\n",
       "_Vision Answer_\n",
       "\n",
       "- The collection started around the year 2014.\n",
       "\n"
      ],
      "text/plain": [
       "<IPython.core.display.Markdown object>"
      ]
     },
     "metadata": {},
     "output_type": "display_data"
    },
    {
     "data": {
      "text/markdown": [
       "**What are the top brands?**\n",
       "                     \n",
       "_Plain Answer_\n",
       "                     \n",
       "- Based on the context provided, it seems like the top brands or series are likely related to the highest recorded values. \"Star Wars\" is mentioned several times and associated with high values in the data, suggesting it might be one of the top brands. However, specific \"top brands\" are not directly listed in the charts, so it's inferred from the context that \"Star Wars\" is a prominent brand. If this does not fully answer your question, please provide more context or clarify.\n",
       "\n",
       "_Vision Answer_\n",
       "\n",
       "- Based on the bar charts provided in the contexts, the top brands in terms of comic book volume are:\n",
       "\n",
       "1. **Marvel Comics:** Consistently has the tallest bar, indicating it is the leading publisher across different charts.\n",
       "2. **DC Comics:** Typically appears as the second highest after Marvel Comics.\n",
       "3. **Dark Horse Comics:** Also features prominently, though with smaller volumes compared to Marvel and DC.\n",
       "4. **IDW Publishing:** Present with a notable quantity of comics, though less than Marvel and DC.\n",
       "5. **BOOM! Studios:** Listed as a top publisher in one of the charts.\n",
       "\n",
       "These publishers are repeatedly highlighted as the major contributors in the comic book industry within the given contexts.\n",
       "\n"
      ],
      "text/plain": [
       "<IPython.core.display.Markdown object>"
      ]
     },
     "metadata": {},
     "output_type": "display_data"
    },
    {
     "name": "stdout",
     "output_type": "stream",
     "text": [
      "DONE!\n"
     ]
    }
   ],
   "source": [
    "for question in questions:\n",
    "    plain_context = \"\\n*****\\n\".join([\n",
    "        \" \".join(slide[\"text\"])\n",
    "        for slide in all_slides_data\n",
    "        if any(k.lower() in slide[\"description\"].lower() or k.lower() in ' '.join(slide['text']).lower() for k in question[\"keywords\"])\n",
    "    ])\n",
    "    vision_context = \"\\n*****\\n\".join([\n",
    "        slide[\"description\"]\n",
    "        for slide in all_slides_data\n",
    "        if any(k.lower() in slide[\"description\"].lower() or k.lower() in ' '.join(slide['text']).lower() for k in question[\"keywords\"])\n",
    "    ])\n",
    "    plain_answer = call_gpt(question[\"question\"], plain_context)\n",
    "    vision_answer = call_gpt(question[\"question\"], vision_context)\n",
    "    display(Markdown(f\"\"\"**{question['question']}**\n",
    "                     \n",
    "_Plain Answer_\n",
    "                     \n",
    "- {plain_answer}\n",
    "\n",
    "_Vision Answer_\n",
    "\n",
    "- {vision_answer}\n",
    "\n",
    "\"\"\"))\n",
    "\n",
    "print(\"DONE!\")"
   ]
  },
  {
   "cell_type": "markdown",
   "metadata": {},
   "source": [
    "<img src=\"../images/gaaaarooooo.PNG\" style=\"width: 20%;\" alt=\"Comic panel of Chewie yelling\" />\n",
    "\n",
    "You can't beat that, can you? Using vision with these slides significantly improved my answers (except for that one wrong answer, did you see it? More below). Now apply this to your content, how many slides and pages have charts, images, and other non-text context that is lost by simply scraping text? \n",
    "\n",
    "<img src=\"../images/you tell me.jpg\" style=\"width: 20%\" alt=\"Comiv panel of Mand saying you tell me\" />\n",
    "\n",
    "Check out the answers to \"How many Marvel books are Star Wars related?\" Not great, right? The challenge here is that the original vision description didn't have this detail in it. So this approach is not perfect, but it certainly averages better than plain text! To really improve things we should explore multimodal RAG ([see other notebook](./multimodal.ipynb))."
   ]
  },
  {
   "cell_type": "markdown",
   "metadata": {},
   "source": [
    "## Just use GPT 4o Vision!\n",
    "\n",
    "It seems quite obvious to just say \"Hey, let's use vision on our content!\", and if you had a blank check, I'd say do it today!\n",
    "\n",
    "In reality, most of us live within budgets, have end-user performance expectations, speed to market requirements, blah blah blah. It'll come down to the business stakeholders to see the value in using vision, compared to the current value you're delivering, and decide the cost is worth it. \n",
    "\n",
    "How much did this cost me?"
   ]
  },
  {
   "cell_type": "code",
   "execution_count": 15,
   "metadata": {},
   "outputs": [
    {
     "data": {
      "text/markdown": [
       "\n",
       "For my limited example above, vision cost me 8127 input tokens and 2692 output tokens. This cost me a total of $0.05."
      ],
      "text/plain": [
       "<IPython.core.display.Markdown object>"
      ]
     },
     "metadata": {},
     "output_type": "display_data"
    }
   ],
   "source": [
    "one_mil = 1000000\n",
    "# costs as of Dec 2024 from https://openai.com/api/pricing/\n",
    "cost_input = 2.5 \n",
    "cost_output = 10\n",
    "display(Markdown(f\"\"\"\n",
    "For my limited example above, vision cost me {total_prompt} input tokens and {total_completion} output tokens. \\\n",
    "This cost me a total of ${round(float((total_completion/one_mil*cost_output)+(total_prompt/one_mil*cost_input)), 2)}.\"\"\"))"
   ]
  },
  {
   "cell_type": "markdown",
   "metadata": {},
   "source": [
    "Cheap enough for a dozen slides, but when you're in the hundreds of thousands to millions of slides, this can add up quickly! There are a few things to check out to help curb the cost:\n",
    "\n",
    "- Only send slides that need vision. Check for specific element types on the slides, and only send if there are images and charts. An all text slide doesn't need vision.\n",
    "- Explore setting the `detail` parameter to low, which should incur lower costs, but might impact quality of the output. Learn more on [OpenAI's site about Low or High fidelity image understanding](https://platform.openai.com/docs/guides/vision#low-or-high-fidelity-image-understanding). I'd guess most powerpoints can get away with low.\n",
    "- The size of the slide also impacts the cost. All of my examples here are 1024x578, which cost $0.001913 per high-res slide, $0.000213 per low-res ([from OpenAI's pricing page](https://openai.com/api/pricing/)). A larger image, like 2048 wide, will cost twice as much. _OpenAI does some resizing and calculations to determine the total tokens for an image. See their Vision pricing calculate for details._\n",
    "\n",
    "Given the results we see above, and the vastly improved answers, adding vision to your RAG should be seriously considered! Figure out your scale of cost, perform some tests, and showcase the value to your team!"
   ]
  },
  {
   "cell_type": "markdown",
   "metadata": {},
   "source": []
  },
  {
   "cell_type": "code",
   "execution_count": 18,
   "metadata": {},
   "outputs": [],
   "source": [
    "# exporting the slide data to a json file for the next page\n",
    "with open(json_file, \"w\") as f:\n",
    "    json.dump(all_slides_data, f)"
   ]
  },
  {
   "cell_type": "code",
   "execution_count": null,
   "metadata": {},
   "outputs": [],
   "source": []
  }
 ],
 "metadata": {
  "kernelspec": {
   "display_name": ".venv",
   "language": "python",
   "name": "python3"
  },
  "language_info": {
   "codemirror_mode": {
    "name": "ipython",
    "version": 3
   },
   "file_extension": ".py",
   "mimetype": "text/x-python",
   "name": "python",
   "nbconvert_exporter": "python",
   "pygments_lexer": "ipython3",
   "version": "3.9.6"
  }
 },
 "nbformat": 4,
 "nbformat_minor": 2
}
