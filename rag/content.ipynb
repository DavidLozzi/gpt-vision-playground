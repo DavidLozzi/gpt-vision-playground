{
 "cells": [
  {
   "cell_type": "markdown",
   "metadata": {},
   "source": [
    "# Using GPT Vision in RAG\n",
    "\n",
    "We're going to explore using GPT Vision with 4o model to gather more insight from complex slides, charts, images, to improve our chat experiences in our RAG solutions."
   ]
  },
  {
   "cell_type": "markdown",
   "metadata": {},
   "source": [
    "## The PowerPoint PPTX file\n",
    "\n",
    "I'll be using a PowerPoint file I made of my comic book collection. I didn't want to use real content from work, and I had a little fun building this ;). The value of adding vision to your RAG pipeline will still be realized using this data, I promise.\n",
    "\n",
    "You can review the [PowerPoint file, in all its glory, here](./comics.pptx)."
   ]
  },
  {
   "cell_type": "markdown",
   "metadata": {},
   "source": [
    "## Getting text from the PPTX\n",
    "\n",
    "But first, you'll need to create a .env file (see .env.example), update it with your OpenAI API key and install some libraries."
   ]
  },
  {
   "cell_type": "markdown",
   "metadata": {},
   "source": [
    "_let's get through some of the boring stuff, installing libraries and stuff_"
   ]
  },
  {
   "cell_type": "code",
   "execution_count": 1,
   "metadata": {},
   "outputs": [
    {
     "data": {
      "text/plain": [
       "True"
      ]
     },
     "execution_count": 1,
     "metadata": {},
     "output_type": "execute_result"
    }
   ],
   "source": [
    "%pip install numpy pandas python-pptx openai python-dotenv\n",
    "\n",
    "from dotenv import load_dotenv\n",
    "load_dotenv()"
   ]
  },
  {
   "cell_type": "markdown",
   "metadata": {},
   "source": [
    "Easy enough. Now our function to pull text from slides:"
   ]
  },
  {
   "cell_type": "code",
   "execution_count": 2,
   "metadata": {},
   "outputs": [
    {
     "name": "stdout",
     "output_type": "stream",
     "text": [
      "Pulled text from 9 slides\n"
     ]
    }
   ],
   "source": [
    "import os\n",
    "import json\n",
    "from pptx import Presentation\n",
    "from pptx.enum.shapes import MSO_SHAPE_TYPE\n",
    "\n",
    "ppt_file = \"comics.pptx\"\n",
    "json_file = \"slides_output.json\"\n",
    "\n",
    "# Load the presentation\n",
    "prs = Presentation(ppt_file)\n",
    "all_slides_data = []\n",
    "\n",
    "for idx, slide in enumerate(prs.slides, start=1):\n",
    "    slide_data = {\n",
    "        \"slide_number\": idx,\n",
    "        \"text\": []\n",
    "    }\n",
    "\n",
    "    for shape in slide.shapes:\n",
    "        # Extract text from text frames\n",
    "        if shape.has_text_frame and shape.text.strip():\n",
    "            slide_data[\"text\"].append(shape.text.strip())\n",
    "\n",
    "        # Extract text from charts\n",
    "        if shape.shape_type == MSO_SHAPE_TYPE.CHART:\n",
    "            chart = shape.chart\n",
    "            if chart.has_title:\n",
    "                slide_data[\"text\"].append(f\"Chart Title: {chart.chart_title.text_frame.text}\")\n",
    "            for s in chart.series:\n",
    "                slide_data[\"text\"].append(f\"Series Name: {s.name}\")\n",
    "                if s.values:\n",
    "                    slide_data[\"text\"].append(f\"Values: {list(s.values)}\")\n",
    "\n",
    "    all_slides_data.append(slide_data)\n",
    "\n",
    "print(f\"Pulled text from {len(all_slides_data)} slides\")\n"
   ]
  },
  {
   "cell_type": "markdown",
   "metadata": {},
   "source": [
    "The above has pulled text from all of the slides. We'll explore that data below.\n",
    "\n",
    "I manually exported the deck to JPEG into the `./comics/` folder. Finding a library to do that programatically was getting annoying. In production, we use ASPose, on Java. There are some Python libraries available, but decided not to implement as that's outside of the goal for this exercise. So for today, I've saved my deck as JPEGs sized 1024x578.\n",
    "\n",
    "Let's quickly review the deck and confirm the text I pulled off it. And note how useless some of the content is!"
   ]
  },
  {
   "cell_type": "code",
   "execution_count": 3,
   "metadata": {},
   "outputs": [
    {
     "data": {
      "text/markdown": [
       "![1](./comics/Slide1.jpeg)\n",
       "                     \n",
       "**Slide 1**\n",
       "\n",
       "My Comic Book Collection\n",
       "As of Dec 14, 2024"
      ],
      "text/plain": [
       "<IPython.core.display.Markdown object>"
      ]
     },
     "metadata": {},
     "output_type": "display_data"
    },
    {
     "data": {
      "text/markdown": [
       "![2](./comics/Slide2.jpeg)\n",
       "                     \n",
       "**Slide 2**\n",
       "\n",
       "Comic Books\n",
       "Comic books started in 1938 with the introduction of Action Comics #1 marking the debut of Superman. Over the years, comic books have sold for over $3.5M, making comic books investment-grade collectibles."
      ],
      "text/plain": [
       "<IPython.core.display.Markdown object>"
      ]
     },
     "metadata": {},
     "output_type": "display_data"
    },
    {
     "data": {
      "text/markdown": [
       "![3](./comics/Slide3.jpeg)\n",
       "                     \n",
       "**Slide 3**\n",
       "\n",
       "My Comic Books\n",
       "I started collecting July 4th, 2021, and fell in love with the stories and artwork. I quickly learned certain artists and rarity of the covers could increase a book’s value ten-fold in the first day."
      ],
      "text/plain": [
       "<IPython.core.display.Markdown object>"
      ]
     },
     "metadata": {},
     "output_type": "display_data"
    },
    {
     "data": {
      "text/markdown": [
       "![4](./comics/Slide4.jpeg)\n",
       "                     \n",
       "**Slide 4**\n",
       "\n",
       "My Comic Books\n",
       "As a Star Wars fan, the stories from the comics fill much of the gaps between the movies and TV shows. We get to see our beloved heroes, and villains, in their natural elements like we never see on the screen."
      ],
      "text/plain": [
       "<IPython.core.display.Markdown object>"
      ]
     },
     "metadata": {},
     "output_type": "display_data"
    },
    {
     "data": {
      "text/markdown": [
       "![5](./comics/Slide5.jpeg)\n",
       "                     \n",
       "**Slide 5**\n",
       "\n",
       "My Collection\n",
       "The following are some stats from my collection"
      ],
      "text/plain": [
       "<IPython.core.display.Markdown object>"
      ]
     },
     "metadata": {},
     "output_type": "display_data"
    },
    {
     "data": {
      "text/markdown": [
       "![6](./comics/Slide6.jpeg)\n",
       "                     \n",
       "**Slide 6**\n",
       "\n",
       "Chart Title: \n",
       "Series Name: Total\n",
       "Values: [835.0, 203.0, 116.0, 113.0, 80.0, 50.0, 21.0, 18.0, 17.0, 17.0, 13.0, 10.0, 8.0, 7.0, 7.0, 6.0, 5.0, 4.0, 4.0, 2.0, 2.0, 2.0, 2.0, 1.0, 1.0, 1.0, 1.0, 1.0, 1.0, 1.0, 1.0, 1.0, 1.0, 1.0, 1.0, 1.0, 1.0, 1.0]\n",
       "by publisher\n",
       "Contains more original stories (better in my opinion)\n",
       "This is so high due to Star Wars"
      ],
      "text/plain": [
       "<IPython.core.display.Markdown object>"
      ]
     },
     "metadata": {},
     "output_type": "display_data"
    },
    {
     "data": {
      "text/markdown": [
       "![7](./comics/Slide7.jpeg)\n",
       "                     \n",
       "**Slide 7**\n",
       "\n",
       "Series Name: Count of Series Name\n",
       "Values: [1.0, 10.0, 11.0, 9.0, 25.0, 15.0, 8.0, 2.0, 3.0, 2.0, 1.0, 6.0, 13.0, 14.0, 8.0, 14.0, 8.0, 2.0, 7.0, 6.0, 4.0, 3.0, 5.0, 1.0, 6.0, 2.0, 2.0, 2.0, 5.0, 12.0, 1.0, 10.0, 8.0, 27.0, 27.0, 11.0, 35.0, 21.0, 71.0, 369.0, 497.0, 298.0, 198.0]\n",
       "release years\n",
       "Started Collecting\n",
       "That was an expensive year"
      ],
      "text/plain": [
       "<IPython.core.display.Markdown object>"
      ]
     },
     "metadata": {},
     "output_type": "display_data"
    },
    {
     "data": {
      "text/markdown": [
       "![8](./comics/Slide8.jpeg)\n",
       "                     \n",
       "**Slide 8**\n",
       "\n",
       "Chart Title: Top Publishers\n",
       "Series Name: Read\n",
       "Values: [550.0, 100.0, 57.0, 43.0, 41.0]\n",
       "Series Name: Unread\n",
       "Values: [247.0, 87.0, 51.0, 64.0, 34.0]\n",
       "reading status\n",
       "Chart Title: All Comic Books\n",
       "Series Name: Total\n",
       "Values: [964.0, 816.0]"
      ],
      "text/plain": [
       "<IPython.core.display.Markdown object>"
      ]
     },
     "metadata": {},
     "output_type": "display_data"
    },
    {
     "data": {
      "text/markdown": [
       "![9](./comics/Slide9.jpeg)\n",
       "                     \n",
       "**Slide 9**\n",
       "\n",
       "Series Name: Star Wars Books\n",
       "Values: [554.0, 34.0, 67.0, 2.0]\n",
       "Series Name: Other Books\n",
       "Values: [243.0, 41.0, 40.0, 0.0]\n",
       "Series Name: \n",
       "Values: [657.0, 324.0]\n",
       "star wars comics\n",
       "Star Wars\n",
       "67%\n",
       "All other books\n",
       "33%\n",
       "2"
      ],
      "text/plain": [
       "<IPython.core.display.Markdown object>"
      ]
     },
     "metadata": {},
     "output_type": "display_data"
    }
   ],
   "source": [
    "from IPython.display import display, Markdown\n",
    "\n",
    "for slide in all_slides_data:\n",
    "    all_text = \"\\n\".join(slide[\"text\"])\n",
    "    display(Markdown(f\"\"\"![{slide['slide_number']}](./comics/Slide{slide['slide_number']}.jpeg)\n",
    "                     \n",
    "**Slide {slide['slide_number']}**\n",
    "\n",
    "{all_text}\"\"\"))"
   ]
  },
  {
   "cell_type": "markdown",
   "metadata": {},
   "source": [
    "Thoughts? Reading the text has little value to what the slide actually says, right? Some slides it's mostly number! Useless. Enter GPT 4o Vision!! Let's see what we can get GPT to help us out with."
   ]
  },
  {
   "cell_type": "markdown",
   "metadata": {},
   "source": [
    "## Getting value from GPT 4o Vision"
   ]
  },
  {
   "cell_type": "markdown",
   "metadata": {},
   "source": [
    "Let's use [OpenAI's documentation on using vision](https://platform.openai.com/docs/guides/vision), I modified to handle my images."
   ]
  },
  {
   "cell_type": "code",
   "execution_count": 4,
   "metadata": {},
   "outputs": [],
   "source": [
    "from openai import OpenAI\n",
    "import base64\n",
    "client = OpenAI()\n",
    "\n",
    "total_completion = 0\n",
    "total_prompt = 0\n",
    "sys_prompt = \"\"\"Review the image and describe it in detail as describing it to someone who has imparied vision.\"\"\"\n",
    "\n",
    "def get_image_desc(image):\n",
    "    global total_completion, total_prompt\n",
    "    with open(image, \"rb\") as image_file:\n",
    "        image_base64 = base64.b64encode(image_file.read()).decode('utf-8')\n",
    "    \n",
    "    response = client.chat.completions.create(\n",
    "        model=\"gpt-4o\", # change to 4o from 40-mini, as mini has limitations in understanding relationships\n",
    "        messages=[\n",
    "            {\n",
    "                \"role\": \"user\",\n",
    "                \"content\": [\n",
    "                    {\"type\": \"text\", \"text\": sys_prompt},\n",
    "                    {\n",
    "                        \"type\": \"image_url\",\n",
    "                        \"image_url\": {\n",
    "                            \"url\": f\"data:image/jpeg;base64,{image_base64}\",\n",
    "                        },\n",
    "                    },\n",
    "                ],\n",
    "            }\n",
    "        ],\n",
    "        max_tokens=4000, # using a lot more to give the machine room to give me a good answer \n",
    "    )\n",
    "    total_completion += response.usage.completion_tokens\n",
    "    total_prompt += response.usage.prompt_tokens\n",
    "    return response.choices[0].message.content\n"
   ]
  },
  {
   "cell_type": "markdown",
   "metadata": {},
   "source": [
    "What did I do:\n",
    "\n",
    "- Created a single function so I can call it for each slide.\n",
    "- I have a basic \"system prompt\" (not really, it's user text, but I'm stubborn). Note the wording, I have found asking it to describe it to someone with impaired vision really brings out a rich description.\n",
    "- I collect all usage to share total costs of my tests below.\n",
    "\n",
    "Now let's run all the images!"
   ]
  },
  {
   "cell_type": "code",
   "execution_count": 5,
   "metadata": {},
   "outputs": [
    {
     "name": "stdout",
     "output_type": "stream",
     "text": [
      "Visioned slide 1\n",
      "Visioned slide 2\n",
      "Visioned slide 3\n",
      "Visioned slide 4\n",
      "Visioned slide 5\n",
      "Visioned slide 6\n",
      "Visioned slide 7\n",
      "Visioned slide 8\n",
      "Visioned slide 9\n",
      "DONE!\n",
      "Total completion tokens used: 2089\n",
      "Total prompt tokens used: 7974\n"
     ]
    }
   ],
   "source": [
    "for slide in all_slides_data:\n",
    "    image = f\"./comics/Slide{slide['slide_number']}.jpeg\"\n",
    "    slide[\"description\"] = get_image_desc(image)\n",
    "    print(f\"Visioned slide {slide['slide_number']}\")\n",
    "\n",
    "print(f\"DONE!\\nTotal completion tokens used: {total_completion}\\nTotal prompt tokens used: {total_prompt}\")"
   ]
  },
  {
   "cell_type": "markdown",
   "metadata": {},
   "source": [
    "Drum roll please, let's see what the plain text extraction looks like against the vision description!"
   ]
  },
  {
   "cell_type": "code",
   "execution_count": 6,
   "metadata": {},
   "outputs": [
    {
     "data": {
      "text/markdown": [
       "![Slide 1](./comics/Slide1.jpeg)"
      ],
      "text/plain": [
       "<IPython.core.display.Markdown object>"
      ]
     },
     "metadata": {},
     "output_type": "display_data"
    },
    {
     "data": {
      "text/markdown": [
       "<table style='width:100%' border='0'>\n",
       "        <tr><td colspan='2'>Slide 1</tr>\n",
       "        <tr>\n",
       "            <td style='width:48%; vertical-align:top'>\n",
       "                <strong>Plain Text</strong><br/><br/>\n",
       "                My Comic Book Collection\n",
       "As of Dec 14, 2024\n",
       "            </td>\n",
       "            <td style='width:48%; vertical-align:top'>\n",
       "                <strong>Vision Description:</strong><br/><br/>\n",
       "                The image displays a collage of comic book covers arranged in two rows with a central overlay. The overlay is a gray rectangle with white text that reads, \"My Comic Book Collection\" and underneath it, \"As of Dec 14, 2024.\"\n",
       "\n",
       "1. **Top Row Covers (from left to right):**\n",
       "   - The first cover features \"The Amazing Spider-Man\" with Spider-Man swinging from webbing.\n",
       "   - The second cover is \"Batman '89\" with Batman standing heroically against a dark cityscape background.\n",
       "   - The third cover shows \"Nebula,\" with a futuristic theme showcasing a character in a space-like helmet against a colorful background.\n",
       "   - The fourth cover is from the comic series \"Eve\" with a character in a submerged, porthole-like environment, suggesting an underwater or sci-fi theme.\n",
       "\n",
       "2. **Bottom Row Covers (from left to right):**\n",
       "   - The first cover features \"Scarlet Witch,\" with a close-up of the character in a vibrant red costume.\n",
       "   - The second cover has a vintage style, depicting a character in a pirate-like costume holding a rifle.\n",
       "   - The third cover is a classic comic styled with small figures, including a superhero flying alongside people in action poses.\n",
       "   - The last cover includes \"Hulk,\" with an image of the Hulk in a fierce pose, smashing the ground.\n",
       "\n",
       "The image is colorful and captures a diverse range of comic book themes, from superheroes to sci-fi and fantasy genres.\n",
       "            </td>\n",
       "        </tr>\n",
       "    </table>\n",
       "    "
      ],
      "text/plain": [
       "<IPython.core.display.Markdown object>"
      ]
     },
     "metadata": {},
     "output_type": "display_data"
    },
    {
     "data": {
      "text/markdown": [
       "![Slide 2](./comics/Slide2.jpeg)"
      ],
      "text/plain": [
       "<IPython.core.display.Markdown object>"
      ]
     },
     "metadata": {},
     "output_type": "display_data"
    },
    {
     "data": {
      "text/markdown": [
       "<table style='width:100%' border='0'>\n",
       "        <tr><td colspan='2'>Slide 2</tr>\n",
       "        <tr>\n",
       "            <td style='width:48%; vertical-align:top'>\n",
       "                <strong>Plain Text</strong><br/><br/>\n",
       "                Comic Books\n",
       "Comic books started in 1938 with the introduction of Action Comics #1 marking the debut of Superman. Over the years, comic books have sold for over $3.5M, making comic books investment-grade collectibles.\n",
       "            </td>\n",
       "            <td style='width:48%; vertical-align:top'>\n",
       "                <strong>Vision Description:</strong><br/><br/>\n",
       "                The image is a collage discussing comic books. It features the following elements:\n",
       "\n",
       "1. **Text Header:**\n",
       "   - Title: \"Comic Books\"\n",
       "   - Description: Comic books began in 1938 with Action Comics #1, featuring Superman's debut. They have sold for over $3.5 million, making them valuable collectibles.\n",
       "\n",
       "2. **Images of Comic Book Covers:**\n",
       "   - **Top Right:** The cover of \"Action Comics #1\" from June 1938. It shows a hero lifting a green car overhead while people in the background appear startled or in distress, against a bright yellow backdrop.\n",
       "   - **Bottom Left (Three Covers):**\n",
       "     - **The Warlord:** This cover features dynamic, illustrated scenes with characters in action, including what appears to be a warrior figure. The colors are vibrant, dominated by greens and reds.\n",
       "     - **The Thing:** Displays a superhero character in a powerful pose, clad in a blue and rocky-textured suit. The cover uses bold colors with shades of blue and orange.\n",
       "     - **Star Wars:** This cover features characters from the Star Wars universe with bold lettering and illustrations, primarily in reds and blues.\n",
       "\n",
       "The collage showcases iconic and diverse comic book art, emphasizing their historical and monetary significance.\n",
       "            </td>\n",
       "        </tr>\n",
       "    </table>\n",
       "    "
      ],
      "text/plain": [
       "<IPython.core.display.Markdown object>"
      ]
     },
     "metadata": {},
     "output_type": "display_data"
    },
    {
     "data": {
      "text/markdown": [
       "![Slide 3](./comics/Slide3.jpeg)"
      ],
      "text/plain": [
       "<IPython.core.display.Markdown object>"
      ]
     },
     "metadata": {},
     "output_type": "display_data"
    },
    {
     "data": {
      "text/markdown": [
       "<table style='width:100%' border='0'>\n",
       "        <tr><td colspan='2'>Slide 3</tr>\n",
       "        <tr>\n",
       "            <td style='width:48%; vertical-align:top'>\n",
       "                <strong>Plain Text</strong><br/><br/>\n",
       "                My Comic Books\n",
       "I started collecting July 4th, 2021, and fell in love with the stories and artwork. I quickly learned certain artists and rarity of the covers could increase a book’s value ten-fold in the first day.\n",
       "            </td>\n",
       "            <td style='width:48%; vertical-align:top'>\n",
       "                <strong>Vision Description:</strong><br/><br/>\n",
       "                The image is a collage with a heading and several comic book covers. At the top, there is text that says \"My Comic Books,\" followed by a personal note about starting to collect comics on July 4th, 2021, and learning about the value of artists and cover rarity.\n",
       "\n",
       "Below the text, there are four comic book covers:\n",
       "\n",
       "1. **Top Left Cover**: Titled “BRZRKR,” this cover features a monochrome image of a muscular figure with long hair, in a combat-ready stance, equipped with weapons. The background has a bold, blocky text with the title.\n",
       "\n",
       "2. **Middle Cover**: Titled “Stray Dogs: Dog Days,” it shows a colorful illustration of a comic book with a droplet of blood splashing on it. The cover blends elements of mystery or horror.\n",
       "\n",
       "3. **Bottom Middle Cover**: A “Darth Vader” comic cover featuring a detailed portrait of Darth Vader, standing rigidly in a desert-like environment. The background shows additional sci-fi elements like space and stars.\n",
       "\n",
       "4. **Right Cover**: Titled “We Don’t Kill Spiders,” this cover is vivid with fantasy elements, showing a woman in a striking pose wrapped in spider webs, holding a staff, against a starry or mystical background.\n",
       "\n",
       "Overall, the image highlights the visual appeal of comic book cover art and the fascination with collecting them.\n",
       "            </td>\n",
       "        </tr>\n",
       "    </table>\n",
       "    "
      ],
      "text/plain": [
       "<IPython.core.display.Markdown object>"
      ]
     },
     "metadata": {},
     "output_type": "display_data"
    },
    {
     "data": {
      "text/markdown": [
       "![Slide 4](./comics/Slide4.jpeg)"
      ],
      "text/plain": [
       "<IPython.core.display.Markdown object>"
      ]
     },
     "metadata": {},
     "output_type": "display_data"
    },
    {
     "data": {
      "text/markdown": [
       "<table style='width:100%' border='0'>\n",
       "        <tr><td colspan='2'>Slide 4</tr>\n",
       "        <tr>\n",
       "            <td style='width:48%; vertical-align:top'>\n",
       "                <strong>Plain Text</strong><br/><br/>\n",
       "                My Comic Books\n",
       "As a Star Wars fan, the stories from the comics fill much of the gaps between the movies and TV shows. We get to see our beloved heroes, and villains, in their natural elements like we never see on the screen.\n",
       "            </td>\n",
       "            <td style='width:48%; vertical-align:top'>\n",
       "                <strong>Vision Description:</strong><br/><br/>\n",
       "                The image features a slide titled \"My Comic Books.\" Below the title, there is text explaining that as a \"Star Wars\" fan, the stories in these comics fill gaps between the movies and TV shows, depicting heroes and villains in their natural settings.\n",
       "\n",
       "The slide showcases four comic book covers:\n",
       "\n",
       "1. The first cover on the left features a character with a lightsaber, suggesting a futuristic or space theme associated with \"Star Wars.\" The title at the bottom reads \"Star Wars.\"\n",
       "\n",
       "2. The second cover, labeled \"Darth Vader,\" depicts the iconic character with his red lightsaber, hinting at a dark and intense atmosphere.\n",
       "\n",
       "3. The third cover is vibrant with illustrations of various \"Star Wars\" characters, with the classic logo \"Star Wars\" in bold letters.\n",
       "\n",
       "4. The fourth cover on the right features a close-up of a furry, creature-like character holding a weapon. The title reads \"Han Solo & Chewbacca,\" indicating the characters involved.\n",
       "\n",
       "Each comic book cover uses distinct artwork associated with the \"Star Wars\" universe, with prominent use of the color schemes and styles typical of the franchise. The layout of the image is clean and organized, emphasizing the visual appeal of the comic covers.\n",
       "            </td>\n",
       "        </tr>\n",
       "    </table>\n",
       "    "
      ],
      "text/plain": [
       "<IPython.core.display.Markdown object>"
      ]
     },
     "metadata": {},
     "output_type": "display_data"
    },
    {
     "data": {
      "text/markdown": [
       "![Slide 5](./comics/Slide5.jpeg)"
      ],
      "text/plain": [
       "<IPython.core.display.Markdown object>"
      ]
     },
     "metadata": {},
     "output_type": "display_data"
    },
    {
     "data": {
      "text/markdown": [
       "<table style='width:100%' border='0'>\n",
       "        <tr><td colspan='2'>Slide 5</tr>\n",
       "        <tr>\n",
       "            <td style='width:48%; vertical-align:top'>\n",
       "                <strong>Plain Text</strong><br/><br/>\n",
       "                My Collection\n",
       "The following are some stats from my collection\n",
       "            </td>\n",
       "            <td style='width:48%; vertical-align:top'>\n",
       "                <strong>Vision Description:</strong><br/><br/>\n",
       "                The image is primarily blank with a simple, minimalistic design. Against a plain white background, there are two lines of text. \n",
       "\n",
       "The first line reads \"My Collection\" in large, bold black letters, centered and creating a focal point in the image. \n",
       "\n",
       "The second line is just below the first, in smaller, grey letters. It reads \"The following are some stats from my collection.\"\n",
       "\n",
       "There are no other visual elements or colors in the image, emphasizing a clean and straightforward layout.\n",
       "            </td>\n",
       "        </tr>\n",
       "    </table>\n",
       "    "
      ],
      "text/plain": [
       "<IPython.core.display.Markdown object>"
      ]
     },
     "metadata": {},
     "output_type": "display_data"
    },
    {
     "data": {
      "text/markdown": [
       "![Slide 6](./comics/Slide6.jpeg)"
      ],
      "text/plain": [
       "<IPython.core.display.Markdown object>"
      ]
     },
     "metadata": {},
     "output_type": "display_data"
    },
    {
     "data": {
      "text/markdown": [
       "<table style='width:100%' border='0'>\n",
       "        <tr><td colspan='2'>Slide 6</tr>\n",
       "        <tr>\n",
       "            <td style='width:48%; vertical-align:top'>\n",
       "                <strong>Plain Text</strong><br/><br/>\n",
       "                Chart Title: \n",
       "Series Name: Total\n",
       "Values: [835.0, 203.0, 116.0, 113.0, 80.0, 50.0, 21.0, 18.0, 17.0, 17.0, 13.0, 10.0, 8.0, 7.0, 7.0, 6.0, 5.0, 4.0, 4.0, 2.0, 2.0, 2.0, 2.0, 1.0, 1.0, 1.0, 1.0, 1.0, 1.0, 1.0, 1.0, 1.0, 1.0, 1.0, 1.0, 1.0, 1.0, 1.0]\n",
       "by publisher\n",
       "Contains more original stories (better in my opinion)\n",
       "This is so high due to Star Wars\n",
       "            </td>\n",
       "            <td style='width:48%; vertical-align:top'>\n",
       "                <strong>Vision Description:</strong><br/><br/>\n",
       "                The image is a bar chart titled \"by publisher\" with a focus on comic book publishers. The X-axis lists different publishers, and the Y-axis represents the number of publications, ranging from 0 to 900.\n",
       "\n",
       "- The first publisher on the left, \"Marvel Comics,\" has the tallest bar, reaching close to 800. A text annotation reads, \"This is so high due to Star Wars,\" indicating the impact of Star Wars comics on their numbers.\n",
       "  \n",
       "- The second publisher, \"DC Comics,\" has a significantly shorter bar, just below 300.\n",
       "  \n",
       "- Other publishers, such as \"Dark Horse Comics,\" \"BOOM! Studios,\" and \"IDW Publishing,\" have progressively smaller bars.\n",
       "\n",
       "- Towards the middle of the chart, there's another annotation above a small bump, reading, \"Contains more original stories (better in my opinion),\" referring to one of the mid-sized publishers.\n",
       "\n",
       "- The remaining publishers have very low bars, almost indistinguishable from each other, representing a minimal number of publications compared to the leading companies.\n",
       "\n",
       "- The chart is mostly dominated by Marvel Comics, with few other publishers standing out prominently.\n",
       "            </td>\n",
       "        </tr>\n",
       "    </table>\n",
       "    "
      ],
      "text/plain": [
       "<IPython.core.display.Markdown object>"
      ]
     },
     "metadata": {},
     "output_type": "display_data"
    },
    {
     "data": {
      "text/markdown": [
       "![Slide 7](./comics/Slide7.jpeg)"
      ],
      "text/plain": [
       "<IPython.core.display.Markdown object>"
      ]
     },
     "metadata": {},
     "output_type": "display_data"
    },
    {
     "data": {
      "text/markdown": [
       "<table style='width:100%' border='0'>\n",
       "        <tr><td colspan='2'>Slide 7</tr>\n",
       "        <tr>\n",
       "            <td style='width:48%; vertical-align:top'>\n",
       "                <strong>Plain Text</strong><br/><br/>\n",
       "                Series Name: Count of Series Name\n",
       "Values: [1.0, 10.0, 11.0, 9.0, 25.0, 15.0, 8.0, 2.0, 3.0, 2.0, 1.0, 6.0, 13.0, 14.0, 8.0, 14.0, 8.0, 2.0, 7.0, 6.0, 4.0, 3.0, 5.0, 1.0, 6.0, 2.0, 2.0, 2.0, 5.0, 12.0, 1.0, 10.0, 8.0, 27.0, 27.0, 11.0, 35.0, 21.0, 71.0, 369.0, 497.0, 298.0, 198.0]\n",
       "release years\n",
       "Started Collecting\n",
       "That was an expensive year\n",
       "            </td>\n",
       "            <td style='width:48%; vertical-align:top'>\n",
       "                <strong>Vision Description:</strong><br/><br/>\n",
       "                This image is a line graph titled \"release years.\" The graph has a horizontal X-axis representing years, ranging from 1969 to 2024, marked at intervals of a few years. The vertical Y-axis represents quantity or possibly cost, ranging from 0 to 600, marked at intervals of 100.\n",
       "\n",
       "The line on the graph is mostly flat, with small variations, until it starts to rise sharply around the year 2015, reaching a peak between 2018 and 2019 at a value close to 500. After this peak, the line drops quickly and then stabilizes again.\n",
       "\n",
       "There are two labeled points highlighted on the graph. Near the peak at 2018-2019, there's a label saying \"That was an expensive year,\" indicating a significant increase during this period. Closer to the beginning of the rise, around the year 2015, there's another label saying \"Started Collecting.\"\n",
       "\n",
       "Overall, the graph shows a significant spike in activity or costs around 2018-2019, preceded by a steady period and followed by another steady period.\n",
       "            </td>\n",
       "        </tr>\n",
       "    </table>\n",
       "    "
      ],
      "text/plain": [
       "<IPython.core.display.Markdown object>"
      ]
     },
     "metadata": {},
     "output_type": "display_data"
    },
    {
     "data": {
      "text/markdown": [
       "![Slide 8](./comics/Slide8.jpeg)"
      ],
      "text/plain": [
       "<IPython.core.display.Markdown object>"
      ]
     },
     "metadata": {},
     "output_type": "display_data"
    },
    {
     "data": {
      "text/markdown": [
       "<table style='width:100%' border='0'>\n",
       "        <tr><td colspan='2'>Slide 8</tr>\n",
       "        <tr>\n",
       "            <td style='width:48%; vertical-align:top'>\n",
       "                <strong>Plain Text</strong><br/><br/>\n",
       "                Chart Title: Top Publishers\n",
       "Series Name: Read\n",
       "Values: [550.0, 100.0, 57.0, 43.0, 41.0]\n",
       "Series Name: Unread\n",
       "Values: [247.0, 87.0, 51.0, 64.0, 34.0]\n",
       "reading status\n",
       "Chart Title: All Comic Books\n",
       "Series Name: Total\n",
       "Values: [964.0, 816.0]\n",
       "            </td>\n",
       "            <td style='width:48%; vertical-align:top'>\n",
       "                <strong>Vision Description:</strong><br/><br/>\n",
       "                The image is divided into two main sections, focusing on the status of reading comic books.\n",
       "\n",
       "**Left Section: Pie Chart**\n",
       "- This section features a pie chart titled \"All Comic Books.\"\n",
       "- The chart is split into two segments. \n",
       "- The larger segment is colored blue, representing 54% of the comic books labeled as \"Read.\"\n",
       "- The smaller segment is colored orange, representing 46% as \"Unread.\"\n",
       "\n",
       "**Right Section: Bar Chart**\n",
       "- This section displays a horizontal bar chart titled \"Top Publishers.\"\n",
       "- Five publishers are represented, each with a vertical bar.\n",
       "- The first bar, representing Marvel Comics, is the tallest, with the majority blue and a smaller orange top, indicating more read than unread.\n",
       "- The second bar, representing DC Comics, is shorter and has a similar color distribution, mostly blue.\n",
       "- The bars for BOOM! Studios, Dark Horse Comics, and IDW Publishing are significantly smaller, each with a similar blue-orange pattern as the others, indicating fewer comics overall, with a larger portion read.\n",
       "\n",
       "At the bottom of the bar chart are the logos for each publisher, enhancing the visual presentation of the data.\n",
       "            </td>\n",
       "        </tr>\n",
       "    </table>\n",
       "    "
      ],
      "text/plain": [
       "<IPython.core.display.Markdown object>"
      ]
     },
     "metadata": {},
     "output_type": "display_data"
    },
    {
     "data": {
      "text/markdown": [
       "![Slide 9](./comics/Slide9.jpeg)"
      ],
      "text/plain": [
       "<IPython.core.display.Markdown object>"
      ]
     },
     "metadata": {},
     "output_type": "display_data"
    },
    {
     "data": {
      "text/markdown": [
       "<table style='width:100%' border='0'>\n",
       "        <tr><td colspan='2'>Slide 9</tr>\n",
       "        <tr>\n",
       "            <td style='width:48%; vertical-align:top'>\n",
       "                <strong>Plain Text</strong><br/><br/>\n",
       "                Series Name: Star Wars Books\n",
       "Values: [554.0, 34.0, 67.0, 2.0]\n",
       "Series Name: Other Books\n",
       "Values: [243.0, 41.0, 40.0, 0.0]\n",
       "Series Name: \n",
       "Values: [657.0, 324.0]\n",
       "star wars comics\n",
       "Star Wars\n",
       "67%\n",
       "All other books\n",
       "33%\n",
       "2\n",
       "            </td>\n",
       "            <td style='width:48%; vertical-align:top'>\n",
       "                <strong>Vision Description:</strong><br/><br/>\n",
       "                The image features two charts and some logos related to \"Star Wars Comics.\"\n",
       "\n",
       "On the left is a pie chart. It is divided into two segments. The larger segment, which is colored blue, is labeled \"Star Wars 67%.\" The smaller segment, in orange, is labeled \"All other books 33%.\"\n",
       "\n",
       "To the right is a bar graph. It has five vertical bars, each associated with different comic publishers. From left to right:\n",
       "\n",
       "1. The tallest bar represents \"Marvel Comics\" and is mostly blue with an orange top.\n",
       "2. A shorter bar for \"IDW Publishing\" is entirely blue.\n",
       "3. Another small bar for \"Dark Horse Comics\" is mainly blue with an orange top.\n",
       "4. The final bar, for \"VIZ,\" is barely noticeable, small, and completely blue.\n",
       "\n",
       "Below the bars, corresponding logos of each publisher are shown in a row: Marvel Comics, IDW Publishing, Dark Horse Comics, and VIZ.\n",
       "\n",
       "Overall, the image illustrates the distribution of Star Wars comics compared to other books and their presence across different publishers.\n",
       "            </td>\n",
       "        </tr>\n",
       "    </table>\n",
       "    "
      ],
      "text/plain": [
       "<IPython.core.display.Markdown object>"
      ]
     },
     "metadata": {},
     "output_type": "display_data"
    }
   ],
   "source": [
    "for slide in all_slides_data:\n",
    "    image = f\"./comics/Slide{slide['slide_number']}.jpeg\"\n",
    "    display(Markdown(f\"![Slide {slide['slide_number']}]({image})\"))\n",
    "    all_text = \"\\n\".join(slide[\"text\"])\n",
    "    display(Markdown(f\"\"\"<table style='width:100%' border='0'>\n",
    "        <tr><td colspan='2'>Slide {slide['slide_number']}</tr>\n",
    "        <tr>\n",
    "            <td style='width:48%; vertical-align:top'>\n",
    "                <strong>Plain Text</strong><br/><br/>\n",
    "                {all_text}\n",
    "            </td>\n",
    "            <td style='width:48%; vertical-align:top'>\n",
    "                <strong>Vision Description:</strong><br/><br/>\n",
    "                {slide['description']}\n",
    "            </td>\n",
    "        </tr>\n",
    "    </table>\n",
    "    \"\"\"))\n",
    "    "
   ]
  },
  {
   "cell_type": "markdown",
   "metadata": {},
   "source": [
    "YYAAA HOOOOO!!! That's some really helpful descriptions! With these rich descriptions we can provide GPT a greater content to help answer your users' questions!"
   ]
  },
  {
   "cell_type": "markdown",
   "metadata": {},
   "source": [
    "## Does vision actually help?\n",
    "\n",
    "Obviously, the above will work better, but since I have some time on my hands, let's quickly find out 😉.\n",
    "\n",
    "Again, I'm using [OpenAI's basic scripts for generating text](https://platform.openai.com/docs/guides/text-generation), and polished up a little for my use case:"
   ]
  },
  {
   "cell_type": "code",
   "execution_count": 7,
   "metadata": {},
   "outputs": [],
   "source": [
    "from openai import OpenAI\n",
    "client = OpenAI()\n",
    "\n",
    "def call_gpt(text, context):\n",
    "    completion = client.chat.completions.create(\n",
    "        model=\"gpt-4o\",\n",
    "        messages=[\n",
    "            {\"role\": \"developer\", \"content\": \"Help the user by answering their question from the provided context.\"},\n",
    "            {\n",
    "                \"role\": \"user\",\n",
    "                \"content\": f\"Context:\\n{context}\\n\\nQuestion:\\n{text}\"\n",
    "            }\n",
    "        ]\n",
    "    )\n",
    "    return completion.choices[0].message.content\n"
   ]
  },
  {
   "cell_type": "markdown",
   "metadata": {},
   "source": [
    "The above is a basic function that'll call GPT. I concatenate the context, the text from relevant slides, with my question in one message. "
   ]
  },
  {
   "cell_type": "code",
   "execution_count": 8,
   "metadata": {},
   "outputs": [],
   "source": [
    "questions = [\n",
    "    {\n",
    "        \"question\": \"How many Marvel books are there?\",\n",
    "        \"keywords\": [\"Marvel\"]\n",
    "    },\n",
    "    {\n",
    "        \"question\": \"How many Marvel books are Star Wars related?\",\n",
    "        \"keywords\": [\"Marvel\", \"Star Wars\"]\n",
    "    },\n",
    "    {\n",
    "        \"question\": \"What year did the collection start?\",\n",
    "        \"keywords\": [\"start\", \"collect\", \"journey\"]\n",
    "    },\n",
    "    {\n",
    "        \"question\": \"What are the top brands?\",\n",
    "        \"keywords\": [\"brands\", \"publishers\"]\n",
    "    }\n",
    "]"
   ]
  },
  {
   "cell_type": "markdown",
   "metadata": {},
   "source": [
    "Above are my questions, and I added search keywords to find the content. Any decent RAG system should transform user questions into semantic phrases, and along with vectors, to return some really robust results. I'm not creating a search tool for this exercise, so I'm cheating a little bit here to find related content.\n",
    "\n",
    "The following loops through my questions, and cals GPT with the plain text extraction and the vision descriptions from earlier."
   ]
  },
  {
   "cell_type": "code",
   "execution_count": 11,
   "metadata": {},
   "outputs": [
    {
     "data": {
      "text/markdown": [
       "**How many Marvel books are there?**\n",
       "                     \n",
       "_Plain Answer_\n",
       "                     \n",
       "- The context does not directly provide information about the exact number of Marvel books. To determine this, you would need additional data or information specifically indicating the breakdown of books by publisher that includes Marvel.\n",
       "\n",
       "_Vision Answer_\n",
       "\n",
       "- The bar chart indicates that Marvel Comics has close to 800 publications.\n",
       "\n"
      ],
      "text/plain": [
       "<IPython.core.display.Markdown object>"
      ]
     },
     "metadata": {},
     "output_type": "display_data"
    },
    {
     "data": {
      "text/markdown": [
       "**How many Marvel books are Star Wars related?**\n",
       "                     \n",
       "_Plain Answer_\n",
       "                     \n",
       "- The context does not provide specific information on how many Marvel books are specifically Star Wars related. However, it mentions values and comparisons of Star Wars books versus other books and comic books, but it's not explicitly detailed about the Star Wars books published by Marvel. You might need to refer to a detailed catalog or list specific to Star Wars comics published by Marvel to find this information.\n",
       "\n",
       "_Vision Answer_\n",
       "\n",
       "- The chart does not provide an exact number of Star Wars related books published by Marvel Comics. However, it indicates that the tallest bar, representing Marvel Comics, is significantly impacted by Star Wars. Additionally, another pie chart shows \"Star Wars\" as 67% of the total, while \"All other books\" make up 33%. To determine an exact number, you would need additional data on the total number of Marvel publications.\n",
       "\n"
      ],
      "text/plain": [
       "<IPython.core.display.Markdown object>"
      ]
     },
     "metadata": {},
     "output_type": "display_data"
    },
    {
     "data": {
      "text/markdown": [
       "**What year did the collection start?**\n",
       "                     \n",
       "_Plain Answer_\n",
       "                     \n",
       "- The collection started on July 4th, 2021.\n",
       "\n",
       "_Vision Answer_\n",
       "\n",
       "- The collection started in the year 2015.\n",
       "\n"
      ],
      "text/plain": [
       "<IPython.core.display.Markdown object>"
      ]
     },
     "metadata": {},
     "output_type": "display_data"
    },
    {
     "data": {
      "text/markdown": [
       "**What are the top brands?**\n",
       "                     \n",
       "_Plain Answer_\n",
       "                     \n",
       "- Based on the context provided, the top brands appear to be related to publishers and Star Wars. The \"Top Publishers\" chart shows high value indications that the top publishers include those related to Star Wars content, as referenced by the high values in the \"Unread\" and \"Read\" categories, as well as the notable mention of Star Wars. Thus, the context suggests that Star Wars is a significant brand among the top publishers mentioned.\n",
       "\n",
       "_Vision Answer_\n",
       "\n",
       "- The top brands, based on the context provided, are Marvel Comics, DC Comics, IDW Publishing, Dark Horse Comics, and BOOM! Studios. Marvel Comics is the leading publisher with the highest number of publications, driven significantly by their Star Wars comics.\n",
       "\n"
      ],
      "text/plain": [
       "<IPython.core.display.Markdown object>"
      ]
     },
     "metadata": {},
     "output_type": "display_data"
    },
    {
     "name": "stdout",
     "output_type": "stream",
     "text": [
      "DONE!\n"
     ]
    }
   ],
   "source": [
    "for question in questions:\n",
    "    plain_context = \"\\n*****\\n\".join([\n",
    "        \" \".join(slide[\"text\"])\n",
    "        for slide in all_slides_data\n",
    "        if any(k.lower() in slide[\"description\"].lower() or k.lower() in ' '.join(slide['text']).lower() for k in question[\"keywords\"])\n",
    "    ])\n",
    "    vision_context = \"\\n*****\\n\".join([\n",
    "        slide[\"description\"]\n",
    "        for slide in all_slides_data\n",
    "        if any(k.lower() in slide[\"description\"].lower() or k.lower() in ' '.join(slide['text']).lower() for k in question[\"keywords\"])\n",
    "    ])\n",
    "    plain_answer = call_gpt(question[\"question\"], plain_context)\n",
    "    vision_answer = call_gpt(question[\"question\"], vision_context)\n",
    "    display(Markdown(f\"\"\"**{question['question']}**\n",
    "                     \n",
    "_Plain Answer_\n",
    "                     \n",
    "- {plain_answer}\n",
    "\n",
    "_Vision Answer_\n",
    "\n",
    "- {vision_answer}\n",
    "\n",
    "\"\"\"))\n",
    "\n",
    "print(\"DONE!\")"
   ]
  },
  {
   "cell_type": "markdown",
   "metadata": {},
   "source": [
    "Oh my word... you can't beat that, can you? Using vision with these slides significantly improved my answers (except for that one wrong answer, did you see it? More below). Now apply this to your content, how many slides and pages have charts, images, and other non-textual context that is lost by simply scraping text? \n",
    "\n",
    "Check out the answers to \"What year did the collection start?\" The plain answer is good because a slide had it explicitly stated. Vision read that fine, but also read another slide of a chart, which was misaligned by vision. GPT had to choose between the two pieces of content: one slide said \"person’s comic book collection journey, which began on July 4th, 2021\" and the other slide says \"around 2015, another text box is labeled \"Started Collecting.\". GPT isn't perfect, yet."
   ]
  },
  {
   "cell_type": "markdown",
   "metadata": {},
   "source": [
    "## Just use GPT 4o Vision!\n",
    "\n",
    "It seems quite obvious to just say \"Hey, let's use vision on our content!\", and if you had a blank check, I'd say do it today!\n",
    "\n",
    "In reality, most of us live within budgets, end-user performance expectations, speed to market rquirements, blah blah blah. It'll come down to the business stakeholders to see the value in using vision, compared to the current value you're delivering, and decide the cost is worth it. \n",
    "\n"
   ]
  },
  {
   "cell_type": "code",
   "execution_count": 10,
   "metadata": {},
   "outputs": [
    {
     "data": {
      "text/markdown": [
       "\n",
       "For my limited example above, vision cost me 7974 input tokens and 2089 output tokens. This cost me a total of $0.04."
      ],
      "text/plain": [
       "<IPython.core.display.Markdown object>"
      ]
     },
     "metadata": {},
     "output_type": "display_data"
    }
   ],
   "source": [
    "one_mil = 1000000\n",
    "# costs as of Dec 2024 from https://openai.com/api/pricing/\n",
    "cost_input = 2.5 \n",
    "cost_output = 10\n",
    "display(Markdown(f\"\"\"\n",
    "For my limited example above, vision cost me {total_prompt} input tokens and {total_completion} output tokens. \\\n",
    "This cost me a total of ${round(float((total_completion/one_mil*cost_output)+(total_prompt/one_mil*cost_input)), 2)}.\"\"\"))"
   ]
  },
  {
   "cell_type": "markdown",
   "metadata": {},
   "source": [
    "Cheap enough for a dozen slides, but when you're in the hundreds of thousands to millions of slides, this can add up quickly! There are a few things to check out to help curb the cost:\n",
    "\n",
    "- Only send slides that need vision. Check for specific element types on the slides, and only send if there are images and charts. An all text slide doesn't need vision.\n",
    "- Explore setting the `detail` parameter to low, which should incur lower costs, but might impact quality of the output. Learn more on [OpenAI's site about Low or High fidelity image understanding](https://platform.openai.com/docs/guides/vision#low-or-high-fidelity-image-understanding). I'd guess most powerpoints can get away with low.\n",
    "- The size of the slide also impacts the cost. All of my examples here are 1024x578, which cost $0.001913 per high-res slide, $0.000213 per low-res ([from OpenAI's pricing page](https://openai.com/api/pricing/)). A larger image, like 2048 wide, will cost twice as much. _OpenAI does some resizing and calculations to determine the total tokens for an image. See their Vision pricing calculate for details._\n",
    "\n",
    "Given the results we see above, and the vastly improved answers, adding vision to your RAG should be seriously considered! Figure out your scale of cost, perform some tests, and showcase the value to your team!"
   ]
  },
  {
   "cell_type": "markdown",
   "metadata": {},
   "source": []
  }
 ],
 "metadata": {
  "kernelspec": {
   "display_name": ".venv",
   "language": "python",
   "name": "python3"
  },
  "language_info": {
   "codemirror_mode": {
    "name": "ipython",
    "version": 3
   },
   "file_extension": ".py",
   "mimetype": "text/x-python",
   "name": "python",
   "nbconvert_exporter": "python",
   "pygments_lexer": "ipython3",
   "version": "3.9.6"
  }
 },
 "nbformat": 4,
 "nbformat_minor": 2
}
