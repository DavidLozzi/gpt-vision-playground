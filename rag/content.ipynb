{
 "cells": [
  {
   "cell_type": "markdown",
   "metadata": {},
   "source": [
    "# Using GPT Vision in RAG\n",
    "\n",
    "We're going to explore using GPT Vision with 4o model to gather more insight from complex slides, charts, images, to improve our chat experiences in our RAG solutions."
   ]
  },
  {
   "cell_type": "markdown",
   "metadata": {},
   "source": [
    "## The PowerPoint PPTX file\n",
    "\n",
    "I'll be using a PowerPoint file I made of my comic book collection. I didn't want to use real content from work, and I had a little fun building this ;). The value of adding vision to your RAG pipeline will still be realized using this data, I promise.\n",
    "\n",
    "You can review the [PowerPoint file, in all its glory, here](./comics.pptx)."
   ]
  },
  {
   "cell_type": "markdown",
   "metadata": {},
   "source": [
    "## Getting text from the PPTX\n",
    "\n",
    "But first, you'll need to create a .env file (see .env.example), update it with your OpenAI API key and install some libraries."
   ]
  },
  {
   "cell_type": "markdown",
   "metadata": {},
   "source": [
    "_let's get through some of the boring stuff, installing libraries and stuff_"
   ]
  },
  {
   "cell_type": "code",
   "execution_count": null,
   "metadata": {},
   "outputs": [],
   "source": [
    "%pip install numpy pandas python-pptx openai python-dotenv\n",
    "\n",
    "from dotenv import load_dotenv\n",
    "load_dotenv()"
   ]
  },
  {
   "cell_type": "markdown",
   "metadata": {},
   "source": [
    "Easy enough. Now our function to pull text from slides:"
   ]
  },
  {
   "cell_type": "code",
   "execution_count": 2,
   "metadata": {},
   "outputs": [
    {
     "name": "stdout",
     "output_type": "stream",
     "text": [
      "Pulled text from 9 slides\n"
     ]
    }
   ],
   "source": [
    "import os\n",
    "import json\n",
    "from pptx import Presentation\n",
    "from pptx.enum.shapes import MSO_SHAPE_TYPE\n",
    "\n",
    "ppt_file = \"comics.pptx\"\n",
    "json_file = \"slides_output.json\"\n",
    "\n",
    "# Load the presentation\n",
    "prs = Presentation(ppt_file)\n",
    "all_slides_data = []\n",
    "\n",
    "for idx, slide in enumerate(prs.slides, start=1):\n",
    "    slide_data = {\n",
    "        \"slide_number\": idx,\n",
    "        \"text\": []\n",
    "    }\n",
    "\n",
    "    for shape in slide.shapes:\n",
    "        # Extract text from text frames\n",
    "        if shape.has_text_frame and shape.text.strip():\n",
    "            slide_data[\"text\"].append(shape.text.strip())\n",
    "\n",
    "        # Extract text from charts\n",
    "        if shape.shape_type == MSO_SHAPE_TYPE.CHART:\n",
    "            chart = shape.chart\n",
    "            if chart.has_title:\n",
    "                slide_data[\"text\"].append(f\"Chart Title: {chart.chart_title.text_frame.text}\")\n",
    "            for s in chart.series:\n",
    "                slide_data[\"text\"].append(f\"Series Name: {s.name}\")\n",
    "                if s.values:\n",
    "                    slide_data[\"text\"].append(f\"Values: {list(s.values)}\")\n",
    "\n",
    "    all_slides_data.append(slide_data)\n",
    "\n",
    "print(f\"Pulled text from {len(all_slides_data)} slides\")\n"
   ]
  },
  {
   "cell_type": "markdown",
   "metadata": {},
   "source": [
    "The above has pulled text from all of the slides. We'll explore that data below.\n",
    "\n",
    "I manually exported the deck to JPEG into the `./comics/` folder. Finding a library to do that programatically was getting annoying. In production, we use ASPose, on Java. There are some Python libraries available, but decided not to implement as that's outside of the goal for this exercise. So for today, I've saved my deck as JPEGs sized 1024x578.\n",
    "\n",
    "Let's quickly review the deck and confirm the text I pulled off it. And note how useless some of the content is!"
   ]
  },
  {
   "cell_type": "code",
   "execution_count": 32,
   "metadata": {},
   "outputs": [
    {
     "data": {
      "text/markdown": [
       "![1](./comics/Slide1.jpeg)\n",
       "                     \n",
       "**Slide 1**\n",
       "\n",
       "My Comic Book Collection\n",
       "As of Dec 14, 2024"
      ],
      "text/plain": [
       "<IPython.core.display.Markdown object>"
      ]
     },
     "metadata": {},
     "output_type": "display_data"
    },
    {
     "data": {
      "text/markdown": [
       "![2](./comics/Slide2.jpeg)\n",
       "                     \n",
       "**Slide 2**\n",
       "\n",
       "Comic Books\n",
       "Comic books started in 1938 with the introduction of Action Comics #1 marking the debut of Superman. Over the years, comic books have sold for over $3.5M, making comic books investment-grade collectibles."
      ],
      "text/plain": [
       "<IPython.core.display.Markdown object>"
      ]
     },
     "metadata": {},
     "output_type": "display_data"
    },
    {
     "data": {
      "text/markdown": [
       "![3](./comics/Slide3.jpeg)\n",
       "                     \n",
       "**Slide 3**\n",
       "\n",
       "My Comic Books\n",
       "I started collecting July 4th, 2021, and fell in love with the stories and artwork. I quickly learned certain artists and rarity of the covers could increase a book’s value ten-fold in the first day."
      ],
      "text/plain": [
       "<IPython.core.display.Markdown object>"
      ]
     },
     "metadata": {},
     "output_type": "display_data"
    },
    {
     "data": {
      "text/markdown": [
       "![4](./comics/Slide4.jpeg)\n",
       "                     \n",
       "**Slide 4**\n",
       "\n",
       "My Comic Books\n",
       "As a Star Wars fan, the stories from the comics fill much of the gaps between the movies and TV shows. We get to see our beloved heroes, and villains, in their natural elements like we never see on the screen."
      ],
      "text/plain": [
       "<IPython.core.display.Markdown object>"
      ]
     },
     "metadata": {},
     "output_type": "display_data"
    },
    {
     "data": {
      "text/markdown": [
       "![5](./comics/Slide5.jpeg)\n",
       "                     \n",
       "**Slide 5**\n",
       "\n",
       "My Collection\n",
       "The following are some stats from my collection"
      ],
      "text/plain": [
       "<IPython.core.display.Markdown object>"
      ]
     },
     "metadata": {},
     "output_type": "display_data"
    },
    {
     "data": {
      "text/markdown": [
       "![6](./comics/Slide6.jpeg)\n",
       "                     \n",
       "**Slide 6**\n",
       "\n",
       "Chart Title: \n",
       "Series Name: Total\n",
       "Values: [835.0, 203.0, 116.0, 113.0, 80.0, 50.0, 21.0, 18.0, 17.0, 17.0, 13.0, 10.0, 8.0, 7.0, 7.0, 6.0, 5.0, 4.0, 4.0, 2.0, 2.0, 2.0, 2.0, 1.0, 1.0, 1.0, 1.0, 1.0, 1.0, 1.0, 1.0, 1.0, 1.0, 1.0, 1.0, 1.0, 1.0, 1.0]\n",
       "by publisher\n",
       "Contains more original stories (better in my opinion)\n",
       "This is so high due to Star Wars"
      ],
      "text/plain": [
       "<IPython.core.display.Markdown object>"
      ]
     },
     "metadata": {},
     "output_type": "display_data"
    },
    {
     "data": {
      "text/markdown": [
       "![7](./comics/Slide7.jpeg)\n",
       "                     \n",
       "**Slide 7**\n",
       "\n",
       "Series Name: Count of Series Name\n",
       "Values: [1.0, 10.0, 11.0, 9.0, 25.0, 15.0, 8.0, 2.0, 3.0, 2.0, 1.0, 6.0, 13.0, 14.0, 8.0, 14.0, 8.0, 2.0, 7.0, 6.0, 4.0, 3.0, 5.0, 1.0, 6.0, 2.0, 2.0, 2.0, 5.0, 12.0, 1.0, 10.0, 8.0, 27.0, 27.0, 11.0, 35.0, 21.0, 71.0, 369.0, 497.0, 298.0, 198.0]\n",
       "release years\n",
       "Started Collecting\n",
       "That was an expensive year"
      ],
      "text/plain": [
       "<IPython.core.display.Markdown object>"
      ]
     },
     "metadata": {},
     "output_type": "display_data"
    },
    {
     "data": {
      "text/markdown": [
       "![8](./comics/Slide8.jpeg)\n",
       "                     \n",
       "**Slide 8**\n",
       "\n",
       "Chart Title: Top Publishers\n",
       "Series Name: Read\n",
       "Values: [550.0, 100.0, 57.0, 43.0, 41.0]\n",
       "Series Name: Unread\n",
       "Values: [247.0, 87.0, 51.0, 64.0, 34.0]\n",
       "reading status\n",
       "Chart Title: All Comic Books\n",
       "Series Name: Total\n",
       "Values: [964.0, 816.0]"
      ],
      "text/plain": [
       "<IPython.core.display.Markdown object>"
      ]
     },
     "metadata": {},
     "output_type": "display_data"
    },
    {
     "data": {
      "text/markdown": [
       "![9](./comics/Slide9.jpeg)\n",
       "                     \n",
       "**Slide 9**\n",
       "\n",
       "Series Name: Star Wars Books\n",
       "Values: [554.0, 34.0, 67.0, 2.0]\n",
       "Series Name: Other Books\n",
       "Values: [243.0, 41.0, 40.0, 0.0]\n",
       "Series Name: \n",
       "Values: [657.0, 324.0]\n",
       "star wars comics\n",
       "Star Wars\n",
       "67%\n",
       "All other books\n",
       "33%\n",
       "2"
      ],
      "text/plain": [
       "<IPython.core.display.Markdown object>"
      ]
     },
     "metadata": {},
     "output_type": "display_data"
    }
   ],
   "source": [
    "from IPython.display import display, Markdown\n",
    "\n",
    "for slide in all_slides_data:\n",
    "    all_text = \"\\n\".join(slide[\"text\"])\n",
    "    display(Markdown(f\"\"\"![{slide['slide_number']}](./comics/Slide{slide['slide_number']}.jpeg)\n",
    "                     \n",
    "**Slide {slide['slide_number']}**\n",
    "\n",
    "{all_text}\"\"\"))"
   ]
  },
  {
   "cell_type": "markdown",
   "metadata": {},
   "source": [
    "Thoughts? Reading the text has little value to what the slide actually says, right? Some slides it's mostly number! Useless. Enter GPT 4o Vision!! Let's see what we can get GPT to help us out with."
   ]
  },
  {
   "cell_type": "markdown",
   "metadata": {},
   "source": [
    "## Getting value from GPT 4o Vision"
   ]
  },
  {
   "cell_type": "markdown",
   "metadata": {},
   "source": [
    "Let's use [OpenAI's documentation on using vision](https://platform.openai.com/docs/guides/vision), I modified to handle my images."
   ]
  },
  {
   "cell_type": "code",
   "execution_count": 4,
   "metadata": {},
   "outputs": [],
   "source": [
    "from openai import OpenAI\n",
    "import base64\n",
    "client = OpenAI()\n",
    "\n",
    "total_completion = 0\n",
    "total_prompt = 0\n",
    "sys_prompt = \"\"\"Review the image and describe it in detail as describing it to someone who has imparied vision.\"\"\"\n",
    "\n",
    "def get_image_desc(image):\n",
    "    global total_completion, total_prompt\n",
    "    with open(image, \"rb\") as image_file:\n",
    "        image_base64 = base64.b64encode(image_file.read()).decode('utf-8')\n",
    "    \n",
    "    response = client.chat.completions.create(\n",
    "        model=\"gpt-4o\", # change to 4o from 40-mini, as mini has limitations in understanding relationships\n",
    "        messages=[\n",
    "            {\n",
    "                \"role\": \"user\",\n",
    "                \"content\": [\n",
    "                    {\"type\": \"text\", \"text\": sys_prompt},\n",
    "                    {\n",
    "                        \"type\": \"image_url\",\n",
    "                        \"image_url\": {\n",
    "                            \"url\": f\"data:image/jpeg;base64,{image_base64}\",\n",
    "                        },\n",
    "                    },\n",
    "                ],\n",
    "            }\n",
    "        ],\n",
    "        max_tokens=4000, # using a lot more to give the machine room to give me a good answer \n",
    "    )\n",
    "    total_completion += response.usage.completion_tokens\n",
    "    total_prompt += response.usage.prompt_tokens\n",
    "    return response.choices[0].message.content\n"
   ]
  },
  {
   "cell_type": "markdown",
   "metadata": {},
   "source": [
    "What did I do:\n",
    "\n",
    "- Created a single function so I can call it for each slide.\n",
    "- I have a basic \"system prompt\" (not really, it's user text, but I'm stubborn). Note the wording, I have found asking it to describe it to someone with impaired vision really brings out a rich description.\n",
    "- I collect all usage to share total costs of my tests below.\n",
    "\n",
    "Now let's run all the images!"
   ]
  },
  {
   "cell_type": "code",
   "execution_count": 5,
   "metadata": {},
   "outputs": [
    {
     "name": "stdout",
     "output_type": "stream",
     "text": [
      "Visioned slide 1\n",
      "Visioned slide 2\n",
      "Visioned slide 3\n",
      "Visioned slide 4\n",
      "Visioned slide 5\n",
      "Visioned slide 6\n",
      "Visioned slide 7\n",
      "Visioned slide 8\n",
      "Visioned slide 9\n",
      "DONE!\n",
      "Total completion tokens used: 1977\n",
      "Total prompt tokens used: 7974\n"
     ]
    }
   ],
   "source": [
    "for slide in all_slides_data:\n",
    "    image = f\"./comics/Slide{slide['slide_number']}.jpeg\"\n",
    "    slide[\"description\"] = get_image_desc(image)\n",
    "    print(f\"Visioned slide {slide['slide_number']}\")\n",
    "\n",
    "print(f\"DONE!\\nTotal completion tokens used: {total_completion}\\nTotal prompt tokens used: {total_prompt}\")"
   ]
  },
  {
   "cell_type": "markdown",
   "metadata": {},
   "source": [
    "Drum roll please, let's see what the plain text extraction looks like against the vision description!"
   ]
  },
  {
   "cell_type": "code",
   "execution_count": 8,
   "metadata": {},
   "outputs": [
    {
     "data": {
      "text/markdown": [
       "![Slide 1](./comics/Slide1.jpeg)"
      ],
      "text/plain": [
       "<IPython.core.display.Markdown object>"
      ]
     },
     "metadata": {},
     "output_type": "display_data"
    },
    {
     "data": {
      "text/markdown": [
       "<table style='width:100%' border='0'>\n",
       "        <tr><td colspan='2'>Slide 1</tr>\n",
       "        <tr>\n",
       "            <td style='width:48%; vertical-align:top'>\n",
       "                <strong>Plain Text</strong><br/><br/>\n",
       "                My Comic Book Collection\n",
       "As of Dec 14, 2024\n",
       "            </td>\n",
       "            <td style='width:48%; vertical-align:top'>\n",
       "                <strong>Vision Description:</strong><br/><br/>\n",
       "                The image is a collage of comic book covers with a central dark grey rectangle containing text in white. The text reads \"My Comic Book Collection\" with a subheading that says \"As of Dec 14, 2024.\"\n",
       "\n",
       "1. **Top Left:** A cover of \"The Amazing Spider-Man,\" featuring Spider-Man in his iconic red and blue suit with a web background.\n",
       "\n",
       "2. **Top Center Left:** \"Batman '89\" showcasing Batman in a dark cityscape with a shadowy and mysterious atmosphere.\n",
       "\n",
       "3. **Top Center:** \"Nebula #1\" displaying a futuristic design with a character wearing a helmet and vibrant colors.\n",
       "\n",
       "4. **Top Center Right:** \"Eve\" shows a young girl in a circular window, giving a sense of isolation, surrounded by green tones.\n",
       "\n",
       "5. **Top Right:** Part of a \"Hulk\" cover with the Hulk character depicted with large muscles and a fierce expression, engaged in action.\n",
       "\n",
       "6. **Bottom Left:** \"Scarlet Witch\" featuring a character in a red outfit, with mystical and powerful energy around her.\n",
       "\n",
       "7. **Bottom Center Left:** A comic with a woman holding a weapon, giving off a vintage vibe, possibly set in an earlier era.\n",
       "\n",
       "8. **Bottom Center:** A bright and vivid comic cover with a group of characters in colorful costumes, appearing energetic and ready for action.\n",
       "\n",
       "9. **Bottom Right:** Another \"Hulk\" comic showing the Hulk in the midst of a dramatic moment, surrounded by chaos.\n",
       "\n",
       "The artwork across the collage varies in style, from classic to modern, each indicating a different genre or theme within the comic book world.\n",
       "            </td>\n",
       "        </tr>\n",
       "    </table>\n",
       "    "
      ],
      "text/plain": [
       "<IPython.core.display.Markdown object>"
      ]
     },
     "metadata": {},
     "output_type": "display_data"
    },
    {
     "data": {
      "text/markdown": [
       "![Slide 2](./comics/Slide2.jpeg)"
      ],
      "text/plain": [
       "<IPython.core.display.Markdown object>"
      ]
     },
     "metadata": {},
     "output_type": "display_data"
    },
    {
     "data": {
      "text/markdown": [
       "<table style='width:100%' border='0'>\n",
       "        <tr><td colspan='2'>Slide 2</tr>\n",
       "        <tr>\n",
       "            <td style='width:48%; vertical-align:top'>\n",
       "                <strong>Plain Text</strong><br/><br/>\n",
       "                Comic Books\n",
       "Comic books started in 1938 with the introduction of Action Comics #1 marking the debut of Superman. Over the years, comic books have sold for over $3.5M, making comic books investment-grade collectibles.\n",
       "            </td>\n",
       "            <td style='width:48%; vertical-align:top'>\n",
       "                <strong>Vision Description:</strong><br/><br/>\n",
       "                The image is a collage focusing on comic books. At the top left, the title \"Comic Books\" is written in bold black letters. Below it, there's a block of text explaining that comic books started in 1938 with the introduction of \"Action Comics #1,\" which marked Superman's debut. It mentions that some comics have sold for over $3.5 million, highlighting their value as collectibles.\n",
       "\n",
       "Beneath this text, there are four comic book covers displayed:\n",
       "\n",
       "1. **The Warlord**: The cover features mystical artwork, with a warrior in armor fighting off menacing creatures, set against an adventurous, fantasy-themed background.\n",
       "\n",
       "2. **The Thing (Marvel Comics)**: It displays a muscular, rocky-skinned superhero in blue attire, known as The Thing from the Fantastic Four, against a vivid, action-packed backdrop.\n",
       "\n",
       "3. **Star Wars (Marvel Comics)**: This cover shows characters from the Star Wars universe, including Darth Vader, with a dramatic, space-themed design.\n",
       "\n",
       "4. **Action Comics #1**: This iconic cover depicts Superman lifting a green car over his head with people watching in surprise, set against a yellow background. This comic is historical for introducing Superman in 1938.\n",
       "\n",
       "The overall layout effectively illustrates the historical and cultural significance of comic books.\n",
       "            </td>\n",
       "        </tr>\n",
       "    </table>\n",
       "    "
      ],
      "text/plain": [
       "<IPython.core.display.Markdown object>"
      ]
     },
     "metadata": {},
     "output_type": "display_data"
    },
    {
     "data": {
      "text/markdown": [
       "![Slide 3](./comics/Slide3.jpeg)"
      ],
      "text/plain": [
       "<IPython.core.display.Markdown object>"
      ]
     },
     "metadata": {},
     "output_type": "display_data"
    },
    {
     "data": {
      "text/markdown": [
       "<table style='width:100%' border='0'>\n",
       "        <tr><td colspan='2'>Slide 3</tr>\n",
       "        <tr>\n",
       "            <td style='width:48%; vertical-align:top'>\n",
       "                <strong>Plain Text</strong><br/><br/>\n",
       "                My Comic Books\n",
       "I started collecting July 4th, 2021, and fell in love with the stories and artwork. I quickly learned certain artists and rarity of the covers could increase a book’s value ten-fold in the first day.\n",
       "            </td>\n",
       "            <td style='width:48%; vertical-align:top'>\n",
       "                <strong>Vision Description:</strong><br/><br/>\n",
       "                The image is a presentation slide titled \"My Comic Books.\" It features a brief narrative about the person’s comic book collection journey, which began on July 4th, 2021, with an emphasis on the influence of artists and cover rarity on a comic's value.\n",
       "\n",
       "Below the text are four comic book covers displayed in two rows. \n",
       "\n",
       "1. **First Cover (Left)**: \"BRZRKR\" issue 12, with a grayscale illustration of a character in an action pose, possibly wearing tactical gear.\n",
       "\n",
       "2. **Second Cover (Middle Left)**: \"Stray Dogs: Dog Days\" issue 1, with a white and red color scheme, featuring an illustration that includes a drawing within a splash of blood.\n",
       "\n",
       "3. **Third Cover (Middle Right)**: A \"Star Wars: Darth Vader\" issue, in a vintage style with a figure resembling Darth Vader standing at the center.\n",
       "\n",
       "4. **Fourth Cover (Right)**: \"We Don't Kill Spiders\" by Joseph Schmalke, which appears atmospheric with a dark figure surrounded by a misty or mystical background, incorporating pink and teal colors.\n",
       "\n",
       "The overall slide design is clean and emphasizes the passionate start of a comic book collection, highlighting various genres and artistic styles.\n",
       "            </td>\n",
       "        </tr>\n",
       "    </table>\n",
       "    "
      ],
      "text/plain": [
       "<IPython.core.display.Markdown object>"
      ]
     },
     "metadata": {},
     "output_type": "display_data"
    },
    {
     "data": {
      "text/markdown": [
       "![Slide 4](./comics/Slide4.jpeg)"
      ],
      "text/plain": [
       "<IPython.core.display.Markdown object>"
      ]
     },
     "metadata": {},
     "output_type": "display_data"
    },
    {
     "data": {
      "text/markdown": [
       "<table style='width:100%' border='0'>\n",
       "        <tr><td colspan='2'>Slide 4</tr>\n",
       "        <tr>\n",
       "            <td style='width:48%; vertical-align:top'>\n",
       "                <strong>Plain Text</strong><br/><br/>\n",
       "                My Comic Books\n",
       "As a Star Wars fan, the stories from the comics fill much of the gaps between the movies and TV shows. We get to see our beloved heroes, and villains, in their natural elements like we never see on the screen.\n",
       "            </td>\n",
       "            <td style='width:48%; vertical-align:top'>\n",
       "                <strong>Vision Description:</strong><br/><br/>\n",
       "                The image features a collage of comic book covers and text. At the top, there is a heading in bold text that reads \"My Comic Books.\" Below this, a paragraph explains the enjoyment of being a Star Wars fan and how the comics fill gaps between the movies and TV shows by showcasing beloved heroes and villains in their natural settings.\n",
       "\n",
       "Beneath the text are four comic book covers:\n",
       "\n",
       "1. The first cover shows a character resembling a female Jedi holding a red lightsaber, standing in front of a large figure with a helmet, likely Darth Vader.\n",
       "\n",
       "2. The second cover depicts Darth Vader prominently, with a red lightsaber glowing across the center.\n",
       "\n",
       "3. The third cover is a vintage-style Star Wars comic, featuring multiple characters, including Darth Vader, with the title \"Star Wars\" in bold letters.\n",
       "\n",
       "4. The fourth cover features Chewbacca, a large, furry character with bandolier straps across his chest. The title reads \"Han Solo & Chewbacca.\"\n",
       "\n",
       "Each cover includes the Marvel Comics logo, indicating the publisher of these comics.\n",
       "            </td>\n",
       "        </tr>\n",
       "    </table>\n",
       "    "
      ],
      "text/plain": [
       "<IPython.core.display.Markdown object>"
      ]
     },
     "metadata": {},
     "output_type": "display_data"
    },
    {
     "data": {
      "text/markdown": [
       "![Slide 5](./comics/Slide5.jpeg)"
      ],
      "text/plain": [
       "<IPython.core.display.Markdown object>"
      ]
     },
     "metadata": {},
     "output_type": "display_data"
    },
    {
     "data": {
      "text/markdown": [
       "<table style='width:100%' border='0'>\n",
       "        <tr><td colspan='2'>Slide 5</tr>\n",
       "        <tr>\n",
       "            <td style='width:48%; vertical-align:top'>\n",
       "                <strong>Plain Text</strong><br/><br/>\n",
       "                My Collection\n",
       "The following are some stats from my collection\n",
       "            </td>\n",
       "            <td style='width:48%; vertical-align:top'>\n",
       "                <strong>Vision Description:</strong><br/><br/>\n",
       "                The image is a simple, minimalistic presentation slide with a white background. Near the top left corner, there is bold, black text that reads \"My Collection.\" Below that, there is smaller, gray text that states, \"The following are some stats from my collection.\" The overall design is clean and uncluttered, with a focus on the text information.\n",
       "            </td>\n",
       "        </tr>\n",
       "    </table>\n",
       "    "
      ],
      "text/plain": [
       "<IPython.core.display.Markdown object>"
      ]
     },
     "metadata": {},
     "output_type": "display_data"
    },
    {
     "data": {
      "text/markdown": [
       "![Slide 6](./comics/Slide6.jpeg)"
      ],
      "text/plain": [
       "<IPython.core.display.Markdown object>"
      ]
     },
     "metadata": {},
     "output_type": "display_data"
    },
    {
     "data": {
      "text/markdown": [
       "<table style='width:100%' border='0'>\n",
       "        <tr><td colspan='2'>Slide 6</tr>\n",
       "        <tr>\n",
       "            <td style='width:48%; vertical-align:top'>\n",
       "                <strong>Plain Text</strong><br/><br/>\n",
       "                Chart Title: \n",
       "Series Name: Total\n",
       "Values: [835.0, 203.0, 116.0, 113.0, 80.0, 50.0, 21.0, 18.0, 17.0, 17.0, 13.0, 10.0, 8.0, 7.0, 7.0, 6.0, 5.0, 4.0, 4.0, 2.0, 2.0, 2.0, 2.0, 1.0, 1.0, 1.0, 1.0, 1.0, 1.0, 1.0, 1.0, 1.0, 1.0, 1.0, 1.0, 1.0, 1.0, 1.0]\n",
       "by publisher\n",
       "Contains more original stories (better in my opinion)\n",
       "This is so high due to Star Wars\n",
       "            </td>\n",
       "            <td style='width:48%; vertical-align:top'>\n",
       "                <strong>Vision Description:</strong><br/><br/>\n",
       "                The image is a bar chart titled \"by publisher.\" It displays the number of publications by several different publishers, represented by vertical bars. \n",
       "\n",
       "- The most prominent bar corresponds to \"Marvel Comics,\" reaching a height of about 850, with a note beside it stating, \"This is so high due to Star Wars.\"\n",
       "- The second tallest bar is \"DC Comics,\" at around 350.\n",
       "- A few other noticeable bars include \"Dark Horse Comics\" and \"BOOM! Studios,\" both just below 150, and \"IDW Publishing\" slightly below 100.\n",
       "- The rest of the publishers, including names like \"Dynamite,\" \"Oni Press,\" \"Image Comics,\" and \"Archie Comics,\" have bars much shorter, generally around 50 or less.\n",
       "- Another annotation appears around the middle of the chart, stating, \"Contains more original stories (better in my opinion),\" above a small cluster of publishers with slightly higher values around 50 to 100.\n",
       "\n",
       "The chart uses a light blue color for the bars, and it is organized along the horizontal axis with publisher names and a vertical axis labeled \"Total,\" ranging from 0 to 900.\n",
       "            </td>\n",
       "        </tr>\n",
       "    </table>\n",
       "    "
      ],
      "text/plain": [
       "<IPython.core.display.Markdown object>"
      ]
     },
     "metadata": {},
     "output_type": "display_data"
    },
    {
     "data": {
      "text/markdown": [
       "![Slide 7](./comics/Slide7.jpeg)"
      ],
      "text/plain": [
       "<IPython.core.display.Markdown object>"
      ]
     },
     "metadata": {},
     "output_type": "display_data"
    },
    {
     "data": {
      "text/markdown": [
       "<table style='width:100%' border='0'>\n",
       "        <tr><td colspan='2'>Slide 7</tr>\n",
       "        <tr>\n",
       "            <td style='width:48%; vertical-align:top'>\n",
       "                <strong>Plain Text</strong><br/><br/>\n",
       "                Series Name: Count of Series Name\n",
       "Values: [1.0, 10.0, 11.0, 9.0, 25.0, 15.0, 8.0, 2.0, 3.0, 2.0, 1.0, 6.0, 13.0, 14.0, 8.0, 14.0, 8.0, 2.0, 7.0, 6.0, 4.0, 3.0, 5.0, 1.0, 6.0, 2.0, 2.0, 2.0, 5.0, 12.0, 1.0, 10.0, 8.0, 27.0, 27.0, 11.0, 35.0, 21.0, 71.0, 369.0, 497.0, 298.0, 198.0]\n",
       "release years\n",
       "Started Collecting\n",
       "That was an expensive year\n",
       "            </td>\n",
       "            <td style='width:48%; vertical-align:top'>\n",
       "                <strong>Vision Description:</strong><br/><br/>\n",
       "                The image is a line graph titled \"release years,\" displaying data over time from 1969 to 2024 on the horizontal axis and numbers from 0 to 600 on the vertical axis. \n",
       "\n",
       "The line representing the data is mostly flat and low until around 2015, where there's a sharp increase peaking between 2017 and 2018. This peak is labeled with a text box saying \"That was an expensive year.\" After the peak, there's an immediate drop, with the line declining sharply back toward low levels.\n",
       "\n",
       "Additionally, at the beginning of this upward trend, around 2015, another text box is labeled \"Started Collecting.\"\n",
       "\n",
       "The overall impression is that there was a significant spike in activity or value starting in 2015, peaking around 2017-2018, and then decreasing again.\n",
       "            </td>\n",
       "        </tr>\n",
       "    </table>\n",
       "    "
      ],
      "text/plain": [
       "<IPython.core.display.Markdown object>"
      ]
     },
     "metadata": {},
     "output_type": "display_data"
    },
    {
     "data": {
      "text/markdown": [
       "![Slide 8](./comics/Slide8.jpeg)"
      ],
      "text/plain": [
       "<IPython.core.display.Markdown object>"
      ]
     },
     "metadata": {},
     "output_type": "display_data"
    },
    {
     "data": {
      "text/markdown": [
       "<table style='width:100%' border='0'>\n",
       "        <tr><td colspan='2'>Slide 8</tr>\n",
       "        <tr>\n",
       "            <td style='width:48%; vertical-align:top'>\n",
       "                <strong>Plain Text</strong><br/><br/>\n",
       "                Chart Title: Top Publishers\n",
       "Series Name: Read\n",
       "Values: [550.0, 100.0, 57.0, 43.0, 41.0]\n",
       "Series Name: Unread\n",
       "Values: [247.0, 87.0, 51.0, 64.0, 34.0]\n",
       "reading status\n",
       "Chart Title: All Comic Books\n",
       "Series Name: Total\n",
       "Values: [964.0, 816.0]\n",
       "            </td>\n",
       "            <td style='width:48%; vertical-align:top'>\n",
       "                <strong>Vision Description:</strong><br/><br/>\n",
       "                The image contains a graphical representation of comic book reading status. In the top left corner, there is a pie chart labeled \"All Comic Books.\" This chart is divided into two sections: one in blue, representing 54% of comic books that have been read, and one in orange, representing 46% of books that are unread.\n",
       "\n",
       "To the right of the pie chart is a bar graph titled \"Top Publishers.\" The bar graph includes five different publishers. Each publisher has a bar divided into two colors, similar to the pie chart: blue for the number of read comics and orange for unread comics. The publishers are represented with their logos from left to right: Marvel Comics, DC Comics, Boom! Studios, Dark Horse Comics, and IDW Publishing.\n",
       "\n",
       "Marvel Comics has the highest total bar, indicating the largest number of comics, both read and unread. The other publishers have progressively smaller bars. The graph visually contrasts how much of each publisher's comics have been read versus unread.\n",
       "            </td>\n",
       "        </tr>\n",
       "    </table>\n",
       "    "
      ],
      "text/plain": [
       "<IPython.core.display.Markdown object>"
      ]
     },
     "metadata": {},
     "output_type": "display_data"
    },
    {
     "data": {
      "text/markdown": [
       "![Slide 9](./comics/Slide9.jpeg)"
      ],
      "text/plain": [
       "<IPython.core.display.Markdown object>"
      ]
     },
     "metadata": {},
     "output_type": "display_data"
    },
    {
     "data": {
      "text/markdown": [
       "<table style='width:100%' border='0'>\n",
       "        <tr><td colspan='2'>Slide 9</tr>\n",
       "        <tr>\n",
       "            <td style='width:48%; vertical-align:top'>\n",
       "                <strong>Plain Text</strong><br/><br/>\n",
       "                Series Name: Star Wars Books\n",
       "Values: [554.0, 34.0, 67.0, 2.0]\n",
       "Series Name: Other Books\n",
       "Values: [243.0, 41.0, 40.0, 0.0]\n",
       "Series Name: \n",
       "Values: [657.0, 324.0]\n",
       "star wars comics\n",
       "Star Wars\n",
       "67%\n",
       "All other books\n",
       "33%\n",
       "2\n",
       "            </td>\n",
       "            <td style='width:48%; vertical-align:top'>\n",
       "                <strong>Vision Description:</strong><br/><br/>\n",
       "                The image consists of two main parts: a pie chart and a bar graph.\n",
       "\n",
       "**Pie Chart:**\n",
       "- Title: \"star wars comics\"\n",
       "- The pie chart is divided into two sections, representing different categories of books.\n",
       "- A larger blue section labeled \"Star Wars\" makes up 67% of the chart.\n",
       "- A smaller orange section labeled \"All other books\" accounts for 33% of the chart.\n",
       "\n",
       "**Bar Graph:**\n",
       "- The bar graph compares different comic publishers by the number of comics produced.\n",
       "- Four publisher logos are displayed at the bottom: Marvel Comics, IDW Publishing, Dark Horse Comics, and VIZ.\n",
       "- The y-axis represents the number of comics, ranging from 0 to 900.\n",
       "- Marvel Comics has the tallest bar with a combination of blue and orange, indicating a significant number of Star Wars comics and others.\n",
       "- IDW Publishing has a small orange bar.\n",
       "- Dark Horse Comics also has a small orange bar, slightly taller than IDW's.\n",
       "- VIZ has a very small orange bar, almost negligible in height.\n",
       "\n",
       "The chart visually highlights the dominance of Star Wars comics within this dataset and emphasizes the role of Marvel Comics in publishing them.\n",
       "            </td>\n",
       "        </tr>\n",
       "    </table>\n",
       "    "
      ],
      "text/plain": [
       "<IPython.core.display.Markdown object>"
      ]
     },
     "metadata": {},
     "output_type": "display_data"
    }
   ],
   "source": [
    "for slide in all_slides_data:\n",
    "    image = f\"./comics/Slide{slide['slide_number']}.jpeg\"\n",
    "    display(Markdown(f\"![Slide {slide['slide_number']}]({image})\"))\n",
    "    all_text = \"\\n\".join(slide[\"text\"])\n",
    "    display(Markdown(f\"\"\"<table style='width:100%' border='0'>\n",
    "        <tr><td colspan='2'>Slide {slide['slide_number']}</tr>\n",
    "        <tr>\n",
    "            <td style='width:48%; vertical-align:top'>\n",
    "                <strong>Plain Text</strong><br/><br/>\n",
    "                {all_text}\n",
    "            </td>\n",
    "            <td style='width:48%; vertical-align:top'>\n",
    "                <strong>Vision Description:</strong><br/><br/>\n",
    "                {slide['description']}\n",
    "            </td>\n",
    "        </tr>\n",
    "    </table>\n",
    "    \"\"\"))\n",
    "    "
   ]
  },
  {
   "cell_type": "markdown",
   "metadata": {},
   "source": [
    "YYAAA HOOOOO!!! That's some really helpful descriptions! With these rich descriptions we can provide GPT a greater content to help answer your users' questions!"
   ]
  },
  {
   "cell_type": "markdown",
   "metadata": {},
   "source": [
    "## Does vision actually help?\n",
    "\n",
    "Obviously, the above will work better, but since I have some time on my hands, let's quickly find out 😉.\n",
    "\n",
    "Again, I'm using [OpenAI's basic scripts for generating text](https://platform.openai.com/docs/guides/text-generation), and polished up a little for my use case:"
   ]
  },
  {
   "cell_type": "code",
   "execution_count": 11,
   "metadata": {},
   "outputs": [],
   "source": [
    "from openai import OpenAI\n",
    "client = OpenAI()\n",
    "\n",
    "def call_gpt(text, context):\n",
    "    completion = client.chat.completions.create(\n",
    "        model=\"gpt-4o\",\n",
    "        messages=[\n",
    "            {\"role\": \"developer\", \"content\": \"Help the user by answering their question from the provided context.\"},\n",
    "            {\n",
    "                \"role\": \"user\",\n",
    "                \"content\": f\"Context:\\n{context}\\n\\nQuestion:\\n{text}\"\n",
    "            }\n",
    "        ]\n",
    "    )\n",
    "    return completion.choices[0].message.content\n"
   ]
  },
  {
   "cell_type": "markdown",
   "metadata": {},
   "source": [
    "The above is a basic function that'll call GPT. I concatenate the context, the text from relevant slides, with my question in one message. "
   ]
  },
  {
   "cell_type": "code",
   "execution_count": 33,
   "metadata": {},
   "outputs": [],
   "source": [
    "questions = [\n",
    "    {\n",
    "        \"question\": \"How many Marvel books are there?\",\n",
    "        \"keywords\": [\"Marvel\"]\n",
    "    },\n",
    "    {\n",
    "        \"question\": \"How many Marvel books are Star Wars related?\",\n",
    "        \"keywords\": [\"Marvel\", \"Star Wars\"]\n",
    "    },\n",
    "    {\n",
    "        \"question\": \"What year did the collection start?\",\n",
    "        \"keywords\": [\"start\", \"collect\", \"journey\"]\n",
    "    },\n",
    "    {\n",
    "        \"question\": \"What are the top brands?\",\n",
    "        \"keywords\": [\"brands\", \"publishers\"]\n",
    "    }\n",
    "]"
   ]
  },
  {
   "cell_type": "markdown",
   "metadata": {},
   "source": [
    "Above are my questions, and I added search keywords to find the content. Any decent RAG system should transform user questions into semantic phrases, and along with vectors, to return some really robust results. I'm not creating a search tool for this exercise, so I'm cheating a little bit here to find related content.\n",
    "\n",
    "The following loops through my questions, and cals GPT with the plain text extraction and the vision descriptions from earlier."
   ]
  },
  {
   "cell_type": "code",
   "execution_count": 34,
   "metadata": {},
   "outputs": [
    {
     "data": {
      "text/markdown": [
       "**How many Marvel books are there?**\n",
       "                     \n",
       "_Plain Answer_\n",
       "                     \n",
       "- The context provided does not explicitly mention the number of Marvel books, so it is not possible to determine the exact number of Marvel books from the information given.\n",
       "\n",
       "_Vision Answer_\n",
       "\n",
       "- According to the information provided, Marvel Comics has the highest total bar in two different representations: one is approximately reaching a height of 850 in the bar chart titled \"by publisher,\" and the other confirms Marvel as having the tallest bar in the \"Top Publishers\" graph, indicating it produces a large number of comics. Therefore, there are about 850 Marvel books.\n",
       "\n"
      ],
      "text/plain": [
       "<IPython.core.display.Markdown object>"
      ]
     },
     "metadata": {},
     "output_type": "display_data"
    },
    {
     "data": {
      "text/markdown": [
       "**How many Marvel books are Star Wars related?**\n",
       "                     \n",
       "_Plain Answer_\n",
       "                     \n",
       "- Based on the information provided, there are 554.0 Star Wars books. However, the context does not specify how many of these are published by Marvel or how many are Star Wars related within the Marvel category. To determine how many Marvel books specifically are Star Wars related, additional information about the specific publications or publishers would be needed.\n",
       "\n",
       "_Vision Answer_\n",
       "\n",
       "- According to the context provided, the pie chart labeled \"star wars comics\" indicates that 67% are Star Wars comics, specifically highlighting Marvel Comics' contribution. Additionally, the bar chart under \"by publisher\" shows that the high number of publications by Marvel Comics (approximately 850) is largely due to Star Wars. Therefore, if we assume Marvel's total comic publications are about 850, then approximately 67% of these, which would be around 570, are Star Wars related.\n",
       "\n"
      ],
      "text/plain": [
       "<IPython.core.display.Markdown object>"
      ]
     },
     "metadata": {},
     "output_type": "display_data"
    },
    {
     "data": {
      "text/markdown": [
       "**What year did the collection start?**\n",
       "                     \n",
       "_Plain Answer_\n",
       "                     \n",
       "- The collection started on July 4th, 2021.\n",
       "\n",
       "_Vision Answer_\n",
       "\n",
       "- The collection started in 2015.\n",
       "\n"
      ],
      "text/plain": [
       "<IPython.core.display.Markdown object>"
      ]
     },
     "metadata": {},
     "output_type": "display_data"
    },
    {
     "data": {
      "text/markdown": [
       "**What are the top brands?**\n",
       "                     \n",
       "_Plain Answer_\n",
       "                     \n",
       "- Based on the context provided, the top brands appear to be related to comic books and are influenced by the series of \"Star Wars\" given its prominence in the data. In the \"Total Values\" list by publisher, a significant value is associated with Star Wars, suggesting it is a leading brand. Other top brands or series in the context are not explicitly mentioned by name but might be implied by the high values in the other series and publishers mentioned.\n",
       "\n",
       "_Vision Answer_\n",
       "\n",
       "- Based on the provided context, the top brands in terms of comic book publications are:\n",
       "\n",
       "1. Marvel Comics - It has the highest number of publications, significantly due to its Star Wars comics.\n",
       "2. DC Comics - It has the second highest number of publications.\n",
       "3. Boom! Studios, Dark Horse Comics, and IDW Publishing - These publishers follow, with Boom! Studios and Dark Horse Comics having just below 150 publications and IDW Publishing slightly below 100. \n",
       "\n",
       "Marvel Comics stands out as the top brand, especially due to the high number of Star Wars-related comics.\n",
       "\n"
      ],
      "text/plain": [
       "<IPython.core.display.Markdown object>"
      ]
     },
     "metadata": {},
     "output_type": "display_data"
    },
    {
     "name": "stdout",
     "output_type": "stream",
     "text": [
      "DONE!\n"
     ]
    }
   ],
   "source": [
    "for question in questions:\n",
    "    plain_context = \"\\n*****\\n\".join([\n",
    "        \" \".join(slide[\"text\"])\n",
    "        for slide in all_slides_data\n",
    "        if any(k in slide[\"description\"] for k in question[\"keywords\"])\n",
    "    ])\n",
    "    vision_context = \"\\n*****\\n\".join([\n",
    "        slide[\"description\"]\n",
    "        for slide in all_slides_data\n",
    "        if any(k in slide[\"description\"] for k in question[\"keywords\"])\n",
    "    ])\n",
    "    plain_answer = call_gpt(question[\"question\"], plain_context)\n",
    "    vision_answer = call_gpt(question[\"question\"], vision_context)\n",
    "    display(Markdown(f\"\"\"**{question['question']}**\n",
    "                     \n",
    "_Plain Answer_\n",
    "                     \n",
    "- {plain_answer}\n",
    "\n",
    "_Vision Answer_\n",
    "\n",
    "- {vision_answer}\n",
    "\n",
    "\"\"\"))\n",
    "\n",
    "print(\"DONE!\")"
   ]
  },
  {
   "cell_type": "markdown",
   "metadata": {},
   "source": [
    "Oh my word... you can't beat that, can you? Using vision with these slides significantly improved my answers (except for that one wrong answer, did you see it? More below). Now apply this to your content, how many slides and pages have charts, images, and other non-textual context that is lost by simply scraping text? \n",
    "\n",
    "Check out the answers to \"What year did the collection start?\" The plain answer is good because a slide had it explicitly stated. Vision read that fine, but also read another slide of a chart, which was misaligned by vision. GPT had to choose between the two pieces of content: one slide said \"person’s comic book collection journey, which began on July 4th, 2021\" and the other slide says \"around 2015, another text box is labeled \"Started Collecting.\". GPT isn't perfect, yet."
   ]
  },
  {
   "cell_type": "markdown",
   "metadata": {},
   "source": [
    "## Just use GPT 4o Vision!\n",
    "\n",
    "It seems quite obvious to just say \"Hey, let's use vision on our content!\", and if you had a blank check, I'd say do it today!\n",
    "\n",
    "In reality, most of us live within budgets, end-user performance expectations, speed to market rquirements, blah blah blah. It'll come down to the business stakeholders to see the value in using vision, compared to the current value you're delivering, and decide the cost is worth it. \n",
    "\n"
   ]
  },
  {
   "cell_type": "code",
   "execution_count": 35,
   "metadata": {},
   "outputs": [
    {
     "data": {
      "text/markdown": [
       "\n",
       "For my limited example above, vision cost me 7974 input tokens and 1977 output tokens. This cost me a total of $0.04."
      ],
      "text/plain": [
       "<IPython.core.display.Markdown object>"
      ]
     },
     "metadata": {},
     "output_type": "display_data"
    }
   ],
   "source": [
    "one_mil = 1000000\n",
    "# costs as of Dec 2024 from https://openai.com/api/pricing/\n",
    "cost_input = 2.5 \n",
    "cost_output = 10\n",
    "display(Markdown(f\"\"\"\n",
    "For my limited example above, vision cost me {total_prompt} input tokens and {total_completion} output tokens. \\\n",
    "This cost me a total of ${round(float((total_completion/one_mil*cost_output)+(total_prompt/one_mil*cost_input)), 2)}.\"\"\"))"
   ]
  },
  {
   "cell_type": "markdown",
   "metadata": {},
   "source": [
    "Cheap enough for a dozen slides, but when you're in the hundreds of thousands to millions of slides, this can add up quickly! There are a few things to check out to help curb the cost:\n",
    "\n",
    "- Only send slides that need vision. Check for specific element types on the slides, and only send if there are images and charts. An all text slide doesn't need vision.\n",
    "- Explore setting the `detail` parameter to low, which should incur lower costs, but might impact quality of the output. Learn more on [OpenAI's site about Low or High fidelity image understanding](https://platform.openai.com/docs/guides/vision#low-or-high-fidelity-image-understanding). I'd guess most powerpoints can get away with low.\n",
    "- The size of the slide also impacts the cost. All of my examples here are 1024x578, which cost $0.001913 per high-res slide, $0.000213 per low-res ([from OpenAI's pricing page](https://openai.com/api/pricing/)). A larger image, like 2048 wide, will cost twice as much. _OpenAI does some resizing and calculations to determine the total tokens for an image. See their Vision pricing calculate for details._\n",
    "\n",
    "Given the results we see above, and the vastly improved answers, adding vision to your RAG should be seriously considered! Figure out your scale of cost, perform some tests, and showcase the value to your team!"
   ]
  },
  {
   "cell_type": "markdown",
   "metadata": {},
   "source": []
  }
 ],
 "metadata": {
  "kernelspec": {
   "display_name": ".venv",
   "language": "python",
   "name": "python3"
  },
  "language_info": {
   "codemirror_mode": {
    "name": "ipython",
    "version": 3
   },
   "file_extension": ".py",
   "mimetype": "text/x-python",
   "name": "python",
   "nbconvert_exporter": "python",
   "pygments_lexer": "ipython3",
   "version": "3.9.6"
  }
 },
 "nbformat": 4,
 "nbformat_minor": 2
}
